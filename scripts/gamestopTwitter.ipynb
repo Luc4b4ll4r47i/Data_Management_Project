{
 "cells": [
  {
   "cell_type": "code",
   "execution_count": null,
   "id": "30784358",
   "metadata": {},
   "outputs": [],
   "source": [
    "!pip install neo4j-driver"
   ]
  },
  {
   "cell_type": "code",
   "execution_count": null,
   "id": "2bab6ae3",
   "metadata": {},
   "outputs": [],
   "source": [
    "!pip install wordcloud"
   ]
  },
  {
   "cell_type": "code",
   "execution_count": 1,
   "id": "exterior-shower",
   "metadata": {},
   "outputs": [],
   "source": [
    "import snscrape.modules.twitter as sntwitter\n",
    "import pandas as pd\n",
    "import datetime\n",
    "import re\n",
    "import time;\n",
    "from neo4j import GraphDatabase, basic_auth\n",
    "from wordcloud import WordCloud\n",
    "import matplotlib.pyplot as plt"
   ]
  },
  {
   "cell_type": "markdown",
   "id": "adjusted-effects",
   "metadata": {},
   "source": [
    "## Data acquisition"
   ]
  },
  {
   "cell_type": "markdown",
   "id": "de00f6d0",
   "metadata": {},
   "source": [
    "Vengono recuperati i tweets che contengono la parola gamestop (quindi anche l'hashtag #gamestop) tramite la libreria snscrape."
   ]
  },
  {
   "cell_type": "code",
   "execution_count": null,
   "id": "received-emission",
   "metadata": {},
   "outputs": [],
   "source": [
    "#maxTweets = 5000\n",
    "tweets_list = []\n",
    "\n",
    "for i,tweet in enumerate(sntwitter.TwitterSearchScraper('gamestop since:2021-01-24 until:2021-01-30').get_items()):\n",
    "    #if i>maxTweets:\n",
    "    #    break\n",
    "    if(i%1000==0):\n",
    "        print(i)\n",
    "    tweets_list.append({\n",
    "        #\"date\":pd.to_datetime(datetime.datetime.date(tweet.date)),\n",
    "        \"date\":tweet.date,\n",
    "        \"tweetId\":tweet.id,\n",
    "        \"userId\":tweet.user.id,\n",
    "        \"username\":tweet.user.username,\n",
    "        \"display_name\":tweet.user.displayname,\n",
    "        \"text\":tweet.content, \n",
    "        \"reply_count\":tweet.replyCount,\n",
    "        \"like_count\":tweet.likeCount,\n",
    "        \"retweet_count\":tweet.retweetCount,\n",
    "        \"quote_count\":tweet.quoteCount,\n",
    "        \"retweted_tweet\":tweet.retweetedTweet,\n",
    "        \"quotedTweet\":tweet.quotedTweet\n",
    "        #\"mentionedUsers\":tweet.mentionedUsers\n",
    "    })\n"
   ]
  },
  {
   "cell_type": "code",
   "execution_count": null,
   "id": "fatal-cricket",
   "metadata": {
    "scrolled": true
   },
   "outputs": [],
   "source": [
    "tweet_df = pd.DataFrame(tweets_list)\n",
    "tweet_df.sort_values(by=['date'], ascending=True, inplace=True)\n",
    "tweet_df"
   ]
  },
  {
   "cell_type": "markdown",
   "id": "ada6c553",
   "metadata": {},
   "source": [
    "I dati recuperati vengono subito salvati su file system nel formato originale, quindi non ancora manipolati, per poi averli a disposizione per le successive operazioni"
   ]
  },
  {
   "cell_type": "code",
   "execution_count": null,
   "id": "altered-circumstances",
   "metadata": {},
   "outputs": [],
   "source": [
    "tweet_df.to_csv('../data/gamestop_tweets_orig.csv', index=False)"
   ]
  },
  {
   "cell_type": "markdown",
   "id": "47e7fe33",
   "metadata": {},
   "source": [
    "Si decide di ripetere la precedente operazione per prelevare ulteriori tweets precedenti a quelli già recuperati"
   ]
  },
  {
   "cell_type": "code",
   "execution_count": null,
   "id": "7c6bd993",
   "metadata": {},
   "outputs": [],
   "source": [
    "tweets_list1 = []\n",
    "\n",
    "for i,tweet in enumerate(sntwitter.TwitterSearchScraper('gamestop since:2021-01-17 until:2021-01-24').get_items()):\n",
    "    #if i>maxTweets:\n",
    "    #    break\n",
    "    if(i%1000==0):\n",
    "        print(i)\n",
    "    tweets_list1.append({\n",
    "        #\"date\":pd.to_datetime(datetime.datetime.date(tweet.date)),\n",
    "        \"date\":tweet.date,\n",
    "        \"tweetId\":tweet.id,\n",
    "        \"userId\":tweet.user.id,\n",
    "        \"username\":tweet.user.username,\n",
    "        \"display_name\":tweet.user.displayname,\n",
    "        \"text\":tweet.content, \n",
    "        \"reply_count\":tweet.replyCount,\n",
    "        \"like_count\":tweet.likeCount,\n",
    "        \"retweet_count\":tweet.retweetCount,\n",
    "        \"quote_count\":tweet.quoteCount,\n",
    "        \"retweted_tweet\":tweet.retweetedTweet,\n",
    "        \"quotedTweet\":tweet.quotedTweet,\n",
    "        \"mentionedUsers\":tweet.mentionedUsers\n",
    "    })\n"
   ]
  },
  {
   "cell_type": "markdown",
   "id": "90d8889b",
   "metadata": {},
   "source": [
    "Anche in questo caso i risultati vengono subito salvati su file"
   ]
  },
  {
   "cell_type": "code",
   "execution_count": null,
   "id": "564f1974",
   "metadata": {},
   "outputs": [],
   "source": [
    "tweet_df1 = pd.DataFrame(tweets_list1)\n",
    "tweet_df1.to_csv('../data/gamestop_tweets_orig_17-24-gen.csv', index=False)"
   ]
  },
  {
   "cell_type": "markdown",
   "id": "f5852543",
   "metadata": {},
   "source": [
    "Dopo un'analisi espolorativa del dataset, in particolare sul testo dei tweets, ci si accorge che possono mancare altri tweets di rilevante importanza. Viene ripetuta quindi l'operazione utilizzando le parole chiave GME e Gamestonk"
   ]
  },
  {
   "cell_type": "code",
   "execution_count": null,
   "id": "74c80818",
   "metadata": {},
   "outputs": [],
   "source": [
    "tweets_list2 = []\n",
    "\n",
    "for i,tweet in enumerate(sntwitter.TwitterSearchScraper('GME OR Gamestonk since:2021-01-17 until:2021-01-30').get_items()):\n",
    "    #if i>maxTweets:\n",
    "    #    break\n",
    "    if(i%1000==0):\n",
    "        print(i)\n",
    "    tweets_list2.append({\n",
    "        #\"date\":pd.to_datetime(datetime.datetime.date(tweet.date)),\n",
    "        \"date\":tweet.date,\n",
    "        \"tweetId\":tweet.id,\n",
    "        \"userId\":tweet.user.id,\n",
    "        \"username\":tweet.user.username,\n",
    "        \"display_name\":tweet.user.displayname,\n",
    "        \"text\":tweet.content, \n",
    "        \"reply_count\":tweet.replyCount,\n",
    "        \"like_count\":tweet.likeCount,\n",
    "        \"retweet_count\":tweet.retweetCount,\n",
    "        \"quote_count\":tweet.quoteCount,\n",
    "        \"retweted_tweet\":tweet.retweetedTweet,\n",
    "        \"quotedTweet\":tweet.quotedTweet\n",
    "        #\"mentionedUsers\":tweet.mentionedUsers\n",
    "    })\n",
    "\n"
   ]
  },
  {
   "cell_type": "code",
   "execution_count": null,
   "id": "1cbbbc1f",
   "metadata": {},
   "outputs": [],
   "source": [
    "#5 hours long..."
   ]
  },
  {
   "cell_type": "code",
   "execution_count": null,
   "id": "33458855",
   "metadata": {},
   "outputs": [],
   "source": [
    "tweet_df2 = pd.DataFrame(tweets_list2)\n",
    "tweet_df2.to_csv('../data/gamestop_gamestonk_gme_tweets_orig.csv', index=False)"
   ]
  },
  {
   "cell_type": "markdown",
   "id": "8d95eeba",
   "metadata": {},
   "source": [
    "Il motivo del salvataggio dei dati su files nelle operazioni precedenti risiede su fatto di poter avere la possibilità di ripetere le successive operazioni senza dover recuperare di nuovo tutti i dati dalla rete"
   ]
  },
  {
   "cell_type": "markdown",
   "id": "b24c3cb6",
   "metadata": {},
   "source": [
    "## Data preparation e data quality"
   ]
  },
  {
   "cell_type": "code",
   "execution_count": 3,
   "id": "87760952",
   "metadata": {},
   "outputs": [],
   "source": [
    "tweet_df = pd.read_csv('../data/gamestop_tweets_orig.csv', dtype=str)\n",
    "tweet_df1 = pd.read_csv('../data/gamestop_tweets_orig_17-24-gen.csv', dtype=str)\n",
    "tweet_df2 = pd.read_csv('../data/gamestop_gamestonk_gme_tweets_orig.csv', dtype=str)"
   ]
  },
  {
   "cell_type": "markdown",
   "id": "2ebb38bf",
   "metadata": {},
   "source": [
    "<br/><br/>\n",
    "Unione dei data frames: si tratta semplicemente di fare l'unione dei dati, dal momento che i data frames contengono dati disgiunti, ovvero uno è riferito all'intervallo temporale 17-23 gennaio, uno all'intervallo 24-30 gennaio e l'ultimo comprende il periodo complessivo, ma è stato richiesto con altre keywords. L'unione sicuramente genererà dei duplicati, dato che nel terzo dataframe potrebbero essere presenti tweets già prelevati in precedenza"
   ]
  },
  {
   "cell_type": "code",
   "execution_count": 4,
   "id": "c84ac858",
   "metadata": {},
   "outputs": [],
   "source": [
    "tweet_df = pd.concat([tweet_df2, tweet_df1, tweet_df], ignore_index=True, sort=True)"
   ]
  },
  {
   "cell_type": "code",
   "execution_count": 5,
   "id": "48cbf5d8",
   "metadata": {},
   "outputs": [
    {
     "data": {
      "text/html": [
       "<div>\n",
       "<style scoped>\n",
       "    .dataframe tbody tr th:only-of-type {\n",
       "        vertical-align: middle;\n",
       "    }\n",
       "\n",
       "    .dataframe tbody tr th {\n",
       "        vertical-align: top;\n",
       "    }\n",
       "\n",
       "    .dataframe thead th {\n",
       "        text-align: right;\n",
       "    }\n",
       "</style>\n",
       "<table border=\"1\" class=\"dataframe\">\n",
       "  <thead>\n",
       "    <tr style=\"text-align: right;\">\n",
       "      <th></th>\n",
       "      <th>date</th>\n",
       "      <th>display_name</th>\n",
       "      <th>like_count</th>\n",
       "      <th>mentionedUsers</th>\n",
       "      <th>quote_count</th>\n",
       "      <th>quotedTweet</th>\n",
       "      <th>reply_count</th>\n",
       "      <th>retweet_count</th>\n",
       "      <th>retweted_tweet</th>\n",
       "      <th>text</th>\n",
       "      <th>tweetId</th>\n",
       "      <th>userId</th>\n",
       "      <th>username</th>\n",
       "    </tr>\n",
       "  </thead>\n",
       "  <tbody>\n",
       "    <tr>\n",
       "      <th>0</th>\n",
       "      <td>2021-01-17 00:06:58+00:00</td>\n",
       "      <td>CVC Research 🫐</td>\n",
       "      <td>10</td>\n",
       "      <td>NaN</td>\n",
       "      <td>1</td>\n",
       "      <td>NaN</td>\n",
       "      <td>2</td>\n",
       "      <td>0</td>\n",
       "      <td>NaN</td>\n",
       "      <td>$GME https://t.co/B7B3dilRAx</td>\n",
       "      <td>1350595430707466243</td>\n",
       "      <td>3029204524</td>\n",
       "      <td>CVCResearch</td>\n",
       "    </tr>\n",
       "    <tr>\n",
       "      <th>1</th>\n",
       "      <td>2021-01-17 00:08:07+00:00</td>\n",
       "      <td>ChuloCharts ☄</td>\n",
       "      <td>0</td>\n",
       "      <td>NaN</td>\n",
       "      <td>0</td>\n",
       "      <td>NaN</td>\n",
       "      <td>0</td>\n",
       "      <td>0</td>\n",
       "      <td>NaN</td>\n",
       "      <td>@MrZackMorris what if?! GME fractal over AMC h...</td>\n",
       "      <td>1350595723402862594</td>\n",
       "      <td>1263589556084813824</td>\n",
       "      <td>ChuloCharts</td>\n",
       "    </tr>\n",
       "    <tr>\n",
       "      <th>2</th>\n",
       "      <td>2021-01-17 00:11:27+00:00</td>\n",
       "      <td>CVC Research 🫐</td>\n",
       "      <td>7</td>\n",
       "      <td>NaN</td>\n",
       "      <td>0</td>\n",
       "      <td>NaN</td>\n",
       "      <td>1</td>\n",
       "      <td>0</td>\n",
       "      <td>NaN</td>\n",
       "      <td>$GME https://t.co/N4YBbs3Jdx</td>\n",
       "      <td>1350596559369474049</td>\n",
       "      <td>3029204524</td>\n",
       "      <td>CVCResearch</td>\n",
       "    </tr>\n",
       "    <tr>\n",
       "      <th>3</th>\n",
       "      <td>2021-01-17 00:11:36+00:00</td>\n",
       "      <td>CVC Research 🫐</td>\n",
       "      <td>8</td>\n",
       "      <td>NaN</td>\n",
       "      <td>0</td>\n",
       "      <td>NaN</td>\n",
       "      <td>1</td>\n",
       "      <td>0</td>\n",
       "      <td>NaN</td>\n",
       "      <td>$GME https://t.co/mFoHmU8imQ</td>\n",
       "      <td>1350596596942028801</td>\n",
       "      <td>3029204524</td>\n",
       "      <td>CVCResearch</td>\n",
       "    </tr>\n",
       "    <tr>\n",
       "      <th>4</th>\n",
       "      <td>2021-01-17 00:13:08+00:00</td>\n",
       "      <td>GameStop millionaire</td>\n",
       "      <td>0</td>\n",
       "      <td>NaN</td>\n",
       "      <td>0</td>\n",
       "      <td>NaN</td>\n",
       "      <td>0</td>\n",
       "      <td>1</td>\n",
       "      <td>NaN</td>\n",
       "      <td>$GME $TSLA i bet you’re his boss now lol https...</td>\n",
       "      <td>1350596982574866434</td>\n",
       "      <td>20292314</td>\n",
       "      <td>KINGDJTRICKS</td>\n",
       "    </tr>\n",
       "    <tr>\n",
       "      <th>...</th>\n",
       "      <td>...</td>\n",
       "      <td>...</td>\n",
       "      <td>...</td>\n",
       "      <td>...</td>\n",
       "      <td>...</td>\n",
       "      <td>...</td>\n",
       "      <td>...</td>\n",
       "      <td>...</td>\n",
       "      <td>...</td>\n",
       "      <td>...</td>\n",
       "      <td>...</td>\n",
       "      <td>...</td>\n",
       "      <td>...</td>\n",
       "    </tr>\n",
       "    <tr>\n",
       "      <th>1098648</th>\n",
       "      <td>2021-01-29 23:59:46+00:00</td>\n",
       "      <td>Chad Hasty</td>\n",
       "      <td>3</td>\n",
       "      <td>[User(username='KenPaxtonTX', id=45840174, dis...</td>\n",
       "      <td>0</td>\n",
       "      <td>https://twitter.com/KenPaxtonTX/status/1355248...</td>\n",
       "      <td>1</td>\n",
       "      <td>2</td>\n",
       "      <td>NaN</td>\n",
       "      <td>At 6:20pm, @KenPaxtonTX will join me on @KFYO,...</td>\n",
       "      <td>1355304663801868290</td>\n",
       "      <td>14927208</td>\n",
       "      <td>ChadHastyRadio</td>\n",
       "    </tr>\n",
       "    <tr>\n",
       "      <th>1098649</th>\n",
       "      <td>2021-01-29 23:59:47+00:00</td>\n",
       "      <td>75e Session</td>\n",
       "      <td>246</td>\n",
       "      <td>NaN</td>\n",
       "      <td>0</td>\n",
       "      <td>NaN</td>\n",
       "      <td>0</td>\n",
       "      <td>20</td>\n",
       "      <td>NaN</td>\n",
       "      <td>On va les GameStop</td>\n",
       "      <td>1355304668319141891</td>\n",
       "      <td>264189613</td>\n",
       "      <td>75eSession</td>\n",
       "    </tr>\n",
       "    <tr>\n",
       "      <th>1098650</th>\n",
       "      <td>2021-01-29 23:59:49+00:00</td>\n",
       "      <td>Captor Zone</td>\n",
       "      <td>0</td>\n",
       "      <td>NaN</td>\n",
       "      <td>0</td>\n",
       "      <td>NaN</td>\n",
       "      <td>0</td>\n",
       "      <td>0</td>\n",
       "      <td>NaN</td>\n",
       "      <td>https://t.co/CVQRo4Wk30 Candace Owens compares...</td>\n",
       "      <td>1355304676728696834</td>\n",
       "      <td>1552359542</td>\n",
       "      <td>German_Dictator</td>\n",
       "    </tr>\n",
       "    <tr>\n",
       "      <th>1098651</th>\n",
       "      <td>2021-01-29 23:59:51+00:00</td>\n",
       "      <td>Casey Jaywork</td>\n",
       "      <td>1</td>\n",
       "      <td>NaN</td>\n",
       "      <td>0</td>\n",
       "      <td>NaN</td>\n",
       "      <td>0</td>\n",
       "      <td>0</td>\n",
       "      <td>NaN</td>\n",
       "      <td>The Gamestop Short Squeeze Explained in 4 Minu...</td>\n",
       "      <td>1355304685100560384</td>\n",
       "      <td>424660548</td>\n",
       "      <td>CaseyJaywork</td>\n",
       "    </tr>\n",
       "    <tr>\n",
       "      <th>1098652</th>\n",
       "      <td>2021-01-29 23:59:53+00:00</td>\n",
       "      <td>Dinero.com.sv</td>\n",
       "      <td>1</td>\n",
       "      <td>[User(username='WSJ', id=3108351, displayname=...</td>\n",
       "      <td>0</td>\n",
       "      <td>NaN</td>\n",
       "      <td>0</td>\n",
       "      <td>0</td>\n",
       "      <td>NaN</td>\n",
       "      <td>#Tecnologia | Inversores aficionados sacuden a...</td>\n",
       "      <td>1355304691882713091</td>\n",
       "      <td>3290779767</td>\n",
       "      <td>dinerocomsv</td>\n",
       "    </tr>\n",
       "  </tbody>\n",
       "</table>\n",
       "<p>1098653 rows × 13 columns</p>\n",
       "</div>"
      ],
      "text/plain": [
       "                              date          display_name like_count  \\\n",
       "0        2021-01-17 00:06:58+00:00        CVC Research 🫐         10   \n",
       "1        2021-01-17 00:08:07+00:00         ChuloCharts ☄          0   \n",
       "2        2021-01-17 00:11:27+00:00        CVC Research 🫐          7   \n",
       "3        2021-01-17 00:11:36+00:00        CVC Research 🫐          8   \n",
       "4        2021-01-17 00:13:08+00:00  GameStop millionaire          0   \n",
       "...                            ...                   ...        ...   \n",
       "1098648  2021-01-29 23:59:46+00:00            Chad Hasty          3   \n",
       "1098649  2021-01-29 23:59:47+00:00           75e Session        246   \n",
       "1098650  2021-01-29 23:59:49+00:00           Captor Zone          0   \n",
       "1098651  2021-01-29 23:59:51+00:00         Casey Jaywork          1   \n",
       "1098652  2021-01-29 23:59:53+00:00         Dinero.com.sv          1   \n",
       "\n",
       "                                            mentionedUsers quote_count  \\\n",
       "0                                                      NaN           1   \n",
       "1                                                      NaN           0   \n",
       "2                                                      NaN           0   \n",
       "3                                                      NaN           0   \n",
       "4                                                      NaN           0   \n",
       "...                                                    ...         ...   \n",
       "1098648  [User(username='KenPaxtonTX', id=45840174, dis...           0   \n",
       "1098649                                                NaN           0   \n",
       "1098650                                                NaN           0   \n",
       "1098651                                                NaN           0   \n",
       "1098652  [User(username='WSJ', id=3108351, displayname=...           0   \n",
       "\n",
       "                                               quotedTweet reply_count  \\\n",
       "0                                                      NaN           2   \n",
       "1                                                      NaN           0   \n",
       "2                                                      NaN           1   \n",
       "3                                                      NaN           1   \n",
       "4                                                      NaN           0   \n",
       "...                                                    ...         ...   \n",
       "1098648  https://twitter.com/KenPaxtonTX/status/1355248...           1   \n",
       "1098649                                                NaN           0   \n",
       "1098650                                                NaN           0   \n",
       "1098651                                                NaN           0   \n",
       "1098652                                                NaN           0   \n",
       "\n",
       "        retweet_count retweted_tweet  \\\n",
       "0                   0            NaN   \n",
       "1                   0            NaN   \n",
       "2                   0            NaN   \n",
       "3                   0            NaN   \n",
       "4                   1            NaN   \n",
       "...               ...            ...   \n",
       "1098648             2            NaN   \n",
       "1098649            20            NaN   \n",
       "1098650             0            NaN   \n",
       "1098651             0            NaN   \n",
       "1098652             0            NaN   \n",
       "\n",
       "                                                      text  \\\n",
       "0                             $GME https://t.co/B7B3dilRAx   \n",
       "1        @MrZackMorris what if?! GME fractal over AMC h...   \n",
       "2                             $GME https://t.co/N4YBbs3Jdx   \n",
       "3                             $GME https://t.co/mFoHmU8imQ   \n",
       "4        $GME $TSLA i bet you’re his boss now lol https...   \n",
       "...                                                    ...   \n",
       "1098648  At 6:20pm, @KenPaxtonTX will join me on @KFYO,...   \n",
       "1098649                                 On va les GameStop   \n",
       "1098650  https://t.co/CVQRo4Wk30 Candace Owens compares...   \n",
       "1098651  The Gamestop Short Squeeze Explained in 4 Minu...   \n",
       "1098652  #Tecnologia | Inversores aficionados sacuden a...   \n",
       "\n",
       "                     tweetId               userId         username  \n",
       "0        1350595430707466243           3029204524      CVCResearch  \n",
       "1        1350595723402862594  1263589556084813824      ChuloCharts  \n",
       "2        1350596559369474049           3029204524      CVCResearch  \n",
       "3        1350596596942028801           3029204524      CVCResearch  \n",
       "4        1350596982574866434             20292314     KINGDJTRICKS  \n",
       "...                      ...                  ...              ...  \n",
       "1098648  1355304663801868290             14927208   ChadHastyRadio  \n",
       "1098649  1355304668319141891            264189613       75eSession  \n",
       "1098650  1355304676728696834           1552359542  German_Dictator  \n",
       "1098651  1355304685100560384            424660548     CaseyJaywork  \n",
       "1098652  1355304691882713091           3290779767      dinerocomsv  \n",
       "\n",
       "[1098653 rows x 13 columns]"
      ]
     },
     "execution_count": 5,
     "metadata": {},
     "output_type": "execute_result"
    }
   ],
   "source": [
    "tweet_df"
   ]
  },
  {
   "cell_type": "markdown",
   "id": "9e06b4d7",
   "metadata": {},
   "source": [
    "Dimensione del dataframe contenente tutti i tweets"
   ]
  },
  {
   "cell_type": "code",
   "execution_count": 6,
   "id": "6de294fb",
   "metadata": {},
   "outputs": [
    {
     "data": {
      "text/plain": [
       "1098653"
      ]
     },
     "execution_count": 6,
     "metadata": {},
     "output_type": "execute_result"
    }
   ],
   "source": [
    "len(tweet_df.index)"
   ]
  },
  {
   "cell_type": "markdown",
   "id": "89bcf076",
   "metadata": {},
   "source": [
    "Verifica della presenza di righe con username o text mancanti"
   ]
  },
  {
   "cell_type": "code",
   "execution_count": 7,
   "id": "visible-donor",
   "metadata": {},
   "outputs": [
    {
     "data": {
      "text/plain": [
       "105"
      ]
     },
     "execution_count": 7,
     "metadata": {},
     "output_type": "execute_result"
    }
   ],
   "source": [
    "len(tweet_df[tweet_df['username'].isna() | tweet_df['text'].isna()].index)"
   ]
  },
  {
   "cell_type": "code",
   "execution_count": 8,
   "id": "30b0ff82",
   "metadata": {},
   "outputs": [
    {
     "data": {
      "text/plain": [
       "0"
      ]
     },
     "execution_count": 8,
     "metadata": {},
     "output_type": "execute_result"
    }
   ],
   "source": [
    "len(tweet_df[tweet_df['username'] == ''].index)"
   ]
  },
  {
   "cell_type": "code",
   "execution_count": 9,
   "id": "442aad74",
   "metadata": {},
   "outputs": [
    {
     "data": {
      "text/plain": [
       "0"
      ]
     },
     "execution_count": 9,
     "metadata": {},
     "output_type": "execute_result"
    }
   ],
   "source": [
    "len(tweet_df[tweet_df['text'] == ''].index)"
   ]
  },
  {
   "cell_type": "markdown",
   "id": "01690b29",
   "metadata": {},
   "source": [
    "Username e text sono campi necessari, pertanto vengono rimose le righe laddove tali dati siano mancanti"
   ]
  },
  {
   "cell_type": "code",
   "execution_count": 10,
   "id": "9e32e4f8",
   "metadata": {},
   "outputs": [],
   "source": [
    "tweet_df = tweet_df.dropna(subset = ['username'])\n",
    "tweet_df = tweet_df.dropna(subset = ['text'])"
   ]
  },
  {
   "cell_type": "markdown",
   "id": "58e10ee6",
   "metadata": {},
   "source": [
    "Nuova lunghezza totale del dataset"
   ]
  },
  {
   "cell_type": "code",
   "execution_count": 11,
   "id": "7a0fc859",
   "metadata": {},
   "outputs": [
    {
     "data": {
      "text/plain": [
       "1098548"
      ]
     },
     "execution_count": 11,
     "metadata": {},
     "output_type": "execute_result"
    }
   ],
   "source": [
    "len(tweet_df.index)"
   ]
  },
  {
   "cell_type": "markdown",
   "id": "536eea04",
   "metadata": {},
   "source": [
    "Verifica della presenza di righe duplicate per tutti i campi"
   ]
  },
  {
   "cell_type": "code",
   "execution_count": 13,
   "id": "4703c655",
   "metadata": {},
   "outputs": [
    {
     "data": {
      "text/plain": [
       "111102"
      ]
     },
     "execution_count": 13,
     "metadata": {},
     "output_type": "execute_result"
    }
   ],
   "source": [
    "len(tweet_df[tweet_df.duplicated(subset=['tweetId'], keep=False)].index)"
   ]
  },
  {
   "cell_type": "markdown",
   "id": "3f4c9195",
   "metadata": {},
   "source": [
    "Conteggio duplicati mantenendo solo la prima occorrenza"
   ]
  },
  {
   "cell_type": "code",
   "execution_count": 171,
   "id": "8b0c1b5e",
   "metadata": {},
   "outputs": [
    {
     "data": {
      "text/plain": [
       "71229"
      ]
     },
     "execution_count": 171,
     "metadata": {},
     "output_type": "execute_result"
    }
   ],
   "source": [
    "len(tweet_df[tweet_df.duplicated(subset=['tweetId'], keep='first')].index)"
   ]
  },
  {
   "cell_type": "markdown",
   "id": "e2cc8403",
   "metadata": {},
   "source": [
    "Verifica a campione di riga duplicata con lo stesso tweetId"
   ]
  },
  {
   "cell_type": "code",
   "execution_count": 172,
   "id": "f7e945fc",
   "metadata": {},
   "outputs": [
    {
     "data": {
      "text/html": [
       "<div>\n",
       "<style scoped>\n",
       "    .dataframe tbody tr th:only-of-type {\n",
       "        vertical-align: middle;\n",
       "    }\n",
       "\n",
       "    .dataframe tbody tr th {\n",
       "        vertical-align: top;\n",
       "    }\n",
       "\n",
       "    .dataframe thead th {\n",
       "        text-align: right;\n",
       "    }\n",
       "</style>\n",
       "<table border=\"1\" class=\"dataframe\">\n",
       "  <thead>\n",
       "    <tr style=\"text-align: right;\">\n",
       "      <th></th>\n",
       "      <th>date</th>\n",
       "      <th>display_name</th>\n",
       "      <th>like_count</th>\n",
       "      <th>mentionedUsers</th>\n",
       "      <th>quote_count</th>\n",
       "      <th>quotedTweet</th>\n",
       "      <th>reply_count</th>\n",
       "      <th>retweet_count</th>\n",
       "      <th>retweted_tweet</th>\n",
       "      <th>text</th>\n",
       "      <th>tweetId</th>\n",
       "      <th>userId</th>\n",
       "      <th>username</th>\n",
       "    </tr>\n",
       "  </thead>\n",
       "  <tbody>\n",
       "    <tr>\n",
       "      <th>2481</th>\n",
       "      <td>2021-01-19 14:58:09+00:00</td>\n",
       "      <td>Citron Research</td>\n",
       "      <td>2139</td>\n",
       "      <td>NaN</td>\n",
       "      <td>953</td>\n",
       "      <td>NaN</td>\n",
       "      <td>2010</td>\n",
       "      <td>414</td>\n",
       "      <td>NaN</td>\n",
       "      <td>Tomorrow am at 11:30 EST Citron will livestrea...</td>\n",
       "      <td>1351544479547760642</td>\n",
       "      <td>236953420</td>\n",
       "      <td>CitronResearch</td>\n",
       "    </tr>\n",
       "    <tr>\n",
       "      <th>551171</th>\n",
       "      <td>2021-01-19 14:58:09+00:00</td>\n",
       "      <td>Citron Research</td>\n",
       "      <td>2140</td>\n",
       "      <td>NaN</td>\n",
       "      <td>953</td>\n",
       "      <td>NaN</td>\n",
       "      <td>2013</td>\n",
       "      <td>414</td>\n",
       "      <td>NaN</td>\n",
       "      <td>Tomorrow am at 11:30 EST Citron will livestrea...</td>\n",
       "      <td>1351544479547760642</td>\n",
       "      <td>236953420</td>\n",
       "      <td>CitronResearch</td>\n",
       "    </tr>\n",
       "  </tbody>\n",
       "</table>\n",
       "</div>"
      ],
      "text/plain": [
       "                             date     display_name like_count mentionedUsers  \\\n",
       "2481    2021-01-19 14:58:09+00:00  Citron Research       2139            NaN   \n",
       "551171  2021-01-19 14:58:09+00:00  Citron Research       2140            NaN   \n",
       "\n",
       "       quote_count quotedTweet reply_count retweet_count retweted_tweet  \\\n",
       "2481           953         NaN        2010           414            NaN   \n",
       "551171         953         NaN        2013           414            NaN   \n",
       "\n",
       "                                                     text  \\\n",
       "2481    Tomorrow am at 11:30 EST Citron will livestrea...   \n",
       "551171  Tomorrow am at 11:30 EST Citron will livestrea...   \n",
       "\n",
       "                    tweetId     userId        username  \n",
       "2481    1351544479547760642  236953420  CitronResearch  \n",
       "551171  1351544479547760642  236953420  CitronResearch  "
      ]
     },
     "execution_count": 172,
     "metadata": {},
     "output_type": "execute_result"
    }
   ],
   "source": [
    "tweet_df[tweet_df['tweetId'] == '1351544479547760642']"
   ]
  },
  {
   "cell_type": "markdown",
   "id": "2004cb77",
   "metadata": {},
   "source": [
    "<br/><br/>\n",
    "Rimozione righe duplicate"
   ]
  },
  {
   "cell_type": "code",
   "execution_count": 15,
   "id": "cba50bf5",
   "metadata": {},
   "outputs": [],
   "source": [
    "tweet_df = tweet_df.drop_duplicates(subset=['tweetId'])"
   ]
  },
  {
   "cell_type": "code",
   "execution_count": 16,
   "id": "bf60a472",
   "metadata": {},
   "outputs": [
    {
     "data": {
      "text/plain": [
       "1027319"
      ]
     },
     "execution_count": 16,
     "metadata": {},
     "output_type": "execute_result"
    }
   ],
   "source": [
    "len(tweet_df.index)"
   ]
  },
  {
   "cell_type": "markdown",
   "id": "f1212598",
   "metadata": {},
   "source": [
    "Data quality sul campo data: se la conversione genera errore allora la data non è corretta"
   ]
  },
  {
   "cell_type": "code",
   "execution_count": 176,
   "id": "b9240373",
   "metadata": {},
   "outputs": [
    {
     "data": {
      "text/plain": [
       "0         2021-01-17 00:06:58+00:00\n",
       "1         2021-01-17 00:08:07+00:00\n",
       "2         2021-01-17 00:11:27+00:00\n",
       "3         2021-01-17 00:11:36+00:00\n",
       "4         2021-01-17 00:13:08+00:00\n",
       "                     ...           \n",
       "1098647   2021-01-29 23:59:46+00:00\n",
       "1098649   2021-01-29 23:59:47+00:00\n",
       "1098650   2021-01-29 23:59:49+00:00\n",
       "1098651   2021-01-29 23:59:51+00:00\n",
       "1098652   2021-01-29 23:59:53+00:00\n",
       "Name: date, Length: 1027319, dtype: datetime64[ns, UTC]"
      ]
     },
     "execution_count": 176,
     "metadata": {},
     "output_type": "execute_result"
    }
   ],
   "source": [
    "pd.to_datetime(tweet_df['date'],errors='raise')"
   ]
  },
  {
   "cell_type": "markdown",
   "id": "8bb28e24",
   "metadata": {},
   "source": [
    "Verifica presenza di un particolare tweet che pare abbia iniziato la corsa al rialzo, facendo riferimento a wallstreetbets, un subreddit della piattaforma social Reddit'"
   ]
  },
  {
   "cell_type": "code",
   "execution_count": 155,
   "id": "68e891a6",
   "metadata": {},
   "outputs": [
    {
     "data": {
      "text/html": [
       "<div>\n",
       "<style scoped>\n",
       "    .dataframe tbody tr th:only-of-type {\n",
       "        vertical-align: middle;\n",
       "    }\n",
       "\n",
       "    .dataframe tbody tr th {\n",
       "        vertical-align: top;\n",
       "    }\n",
       "\n",
       "    .dataframe thead th {\n",
       "        text-align: right;\n",
       "    }\n",
       "</style>\n",
       "<table border=\"1\" class=\"dataframe\">\n",
       "  <thead>\n",
       "    <tr style=\"text-align: right;\">\n",
       "      <th></th>\n",
       "      <th>date</th>\n",
       "      <th>display_name</th>\n",
       "      <th>like_count</th>\n",
       "      <th>mentionedUsers</th>\n",
       "      <th>quote_count</th>\n",
       "      <th>quotedTweet</th>\n",
       "      <th>reply_count</th>\n",
       "      <th>retweet_count</th>\n",
       "      <th>retweted_tweet</th>\n",
       "      <th>text</th>\n",
       "      <th>tweetId</th>\n",
       "      <th>userId</th>\n",
       "      <th>username</th>\n",
       "    </tr>\n",
       "  </thead>\n",
       "  <tbody>\n",
       "    <tr>\n",
       "      <th>73468</th>\n",
       "      <td>2021-01-26 21:08:02+00:00</td>\n",
       "      <td>Elon Musk</td>\n",
       "      <td>240616</td>\n",
       "      <td>NaN</td>\n",
       "      <td>9345</td>\n",
       "      <td>NaN</td>\n",
       "      <td>11685</td>\n",
       "      <td>34223</td>\n",
       "      <td>NaN</td>\n",
       "      <td>Gamestonk!! \\nhttps://t.co/RZtkDzAewJ</td>\n",
       "      <td>1354174279894642703</td>\n",
       "      <td>44196397</td>\n",
       "      <td>elonmusk</td>\n",
       "    </tr>\n",
       "  </tbody>\n",
       "</table>\n",
       "</div>"
      ],
      "text/plain": [
       "                            date display_name like_count mentionedUsers  \\\n",
       "73468  2021-01-26 21:08:02+00:00    Elon Musk     240616            NaN   \n",
       "\n",
       "      quote_count quotedTweet reply_count retweet_count retweted_tweet  \\\n",
       "73468        9345         NaN       11685         34223            NaN   \n",
       "\n",
       "                                        text              tweetId    userId  \\\n",
       "73468  Gamestonk!! \\nhttps://t.co/RZtkDzAewJ  1354174279894642703  44196397   \n",
       "\n",
       "       username  \n",
       "73468  elonmusk  "
      ]
     },
     "execution_count": 155,
     "metadata": {},
     "output_type": "execute_result"
    }
   ],
   "source": [
    "tweet_df[tweet_df['username'] == 'elonmusk']"
   ]
  },
  {
   "cell_type": "markdown",
   "id": "0c432621",
   "metadata": {},
   "source": [
    "<br/><br/>\n",
    "Data manipulation testo. Sostituzione caratteri 'a capo' e tabulazione con uno spazio"
   ]
  },
  {
   "cell_type": "code",
   "execution_count": 103,
   "id": "cb6233e0",
   "metadata": {},
   "outputs": [
    {
     "data": {
      "text/plain": [
       "211466"
      ]
     },
     "execution_count": 103,
     "metadata": {},
     "output_type": "execute_result"
    }
   ],
   "source": [
    "len(tweet_df[tweet_df['text'].str.contains('\\t|\\n|\\r', regex=True)].index)"
   ]
  },
  {
   "cell_type": "code",
   "execution_count": 104,
   "id": "371be7b9",
   "metadata": {},
   "outputs": [],
   "source": [
    "tweet_df.replace('\\n|\\r|\\t',' ', regex=True, inplace=True)"
   ]
  },
  {
   "cell_type": "code",
   "execution_count": 105,
   "id": "1d5ed9da",
   "metadata": {},
   "outputs": [
    {
     "data": {
      "text/plain": [
       "0"
      ]
     },
     "execution_count": 105,
     "metadata": {},
     "output_type": "execute_result"
    }
   ],
   "source": [
    "len(tweet_df[tweet_df['text'].str.contains('\\t|\\n|\\r', regex=True)].index)"
   ]
  },
  {
   "cell_type": "markdown",
   "id": "d7c9a7e8",
   "metadata": {},
   "source": [
    "<br/><br/>\n",
    "Conteggio righe rimaste dopo la pulizia"
   ]
  },
  {
   "cell_type": "code",
   "execution_count": 107,
   "id": "c1b93239",
   "metadata": {},
   "outputs": [
    {
     "data": {
      "text/plain": [
       "1027319"
      ]
     },
     "execution_count": 107,
     "metadata": {},
     "output_type": "execute_result"
    }
   ],
   "source": [
    "len(tweet_df.index)"
   ]
  },
  {
   "cell_type": "markdown",
   "id": "eacc9ef3",
   "metadata": {},
   "source": [
    "<br/><br/>\n",
    "Per tutti gli altri campi con valori Na viene inserita una stringa vuota"
   ]
  },
  {
   "cell_type": "code",
   "execution_count": 177,
   "id": "13ef2797",
   "metadata": {},
   "outputs": [
    {
     "data": {
      "text/plain": [
       "2816520"
      ]
     },
     "execution_count": 177,
     "metadata": {},
     "output_type": "execute_result"
    }
   ],
   "source": [
    "tweet_df.isna().sum().sum()"
   ]
  },
  {
   "cell_type": "code",
   "execution_count": 178,
   "id": "b9cfdfb3",
   "metadata": {},
   "outputs": [],
   "source": [
    "tweet_df.fillna('', inplace=True)"
   ]
  },
  {
   "cell_type": "code",
   "execution_count": 179,
   "id": "c811024a",
   "metadata": {},
   "outputs": [
    {
     "data": {
      "text/html": [
       "<div>\n",
       "<style scoped>\n",
       "    .dataframe tbody tr th:only-of-type {\n",
       "        vertical-align: middle;\n",
       "    }\n",
       "\n",
       "    .dataframe tbody tr th {\n",
       "        vertical-align: top;\n",
       "    }\n",
       "\n",
       "    .dataframe thead th {\n",
       "        text-align: right;\n",
       "    }\n",
       "</style>\n",
       "<table border=\"1\" class=\"dataframe\">\n",
       "  <thead>\n",
       "    <tr style=\"text-align: right;\">\n",
       "      <th></th>\n",
       "      <th>date</th>\n",
       "      <th>display_name</th>\n",
       "      <th>like_count</th>\n",
       "      <th>mentionedUsers</th>\n",
       "      <th>quote_count</th>\n",
       "      <th>quotedTweet</th>\n",
       "      <th>reply_count</th>\n",
       "      <th>retweet_count</th>\n",
       "      <th>retweted_tweet</th>\n",
       "      <th>text</th>\n",
       "      <th>tweetId</th>\n",
       "      <th>userId</th>\n",
       "      <th>username</th>\n",
       "    </tr>\n",
       "  </thead>\n",
       "  <tbody>\n",
       "    <tr>\n",
       "      <th>0</th>\n",
       "      <td>2021-01-17 00:06:58+00:00</td>\n",
       "      <td>CVC Research 🫐</td>\n",
       "      <td>10</td>\n",
       "      <td></td>\n",
       "      <td>1</td>\n",
       "      <td></td>\n",
       "      <td>2</td>\n",
       "      <td>0</td>\n",
       "      <td></td>\n",
       "      <td>$GME https://t.co/B7B3dilRAx</td>\n",
       "      <td>1350595430707466243</td>\n",
       "      <td>3029204524</td>\n",
       "      <td>CVCResearch</td>\n",
       "    </tr>\n",
       "    <tr>\n",
       "      <th>1</th>\n",
       "      <td>2021-01-17 00:08:07+00:00</td>\n",
       "      <td>ChuloCharts ☄</td>\n",
       "      <td>0</td>\n",
       "      <td></td>\n",
       "      <td>0</td>\n",
       "      <td></td>\n",
       "      <td>0</td>\n",
       "      <td>0</td>\n",
       "      <td></td>\n",
       "      <td>@MrZackMorris what if?! GME fractal over AMC h...</td>\n",
       "      <td>1350595723402862594</td>\n",
       "      <td>1263589556084813824</td>\n",
       "      <td>ChuloCharts</td>\n",
       "    </tr>\n",
       "    <tr>\n",
       "      <th>2</th>\n",
       "      <td>2021-01-17 00:11:27+00:00</td>\n",
       "      <td>CVC Research 🫐</td>\n",
       "      <td>7</td>\n",
       "      <td></td>\n",
       "      <td>0</td>\n",
       "      <td></td>\n",
       "      <td>1</td>\n",
       "      <td>0</td>\n",
       "      <td></td>\n",
       "      <td>$GME https://t.co/N4YBbs3Jdx</td>\n",
       "      <td>1350596559369474049</td>\n",
       "      <td>3029204524</td>\n",
       "      <td>CVCResearch</td>\n",
       "    </tr>\n",
       "    <tr>\n",
       "      <th>3</th>\n",
       "      <td>2021-01-17 00:11:36+00:00</td>\n",
       "      <td>CVC Research 🫐</td>\n",
       "      <td>8</td>\n",
       "      <td></td>\n",
       "      <td>0</td>\n",
       "      <td></td>\n",
       "      <td>1</td>\n",
       "      <td>0</td>\n",
       "      <td></td>\n",
       "      <td>$GME https://t.co/mFoHmU8imQ</td>\n",
       "      <td>1350596596942028801</td>\n",
       "      <td>3029204524</td>\n",
       "      <td>CVCResearch</td>\n",
       "    </tr>\n",
       "    <tr>\n",
       "      <th>4</th>\n",
       "      <td>2021-01-17 00:13:08+00:00</td>\n",
       "      <td>GameStop millionaire</td>\n",
       "      <td>0</td>\n",
       "      <td></td>\n",
       "      <td>0</td>\n",
       "      <td></td>\n",
       "      <td>0</td>\n",
       "      <td>1</td>\n",
       "      <td></td>\n",
       "      <td>$GME $TSLA i bet you’re his boss now lol https...</td>\n",
       "      <td>1350596982574866434</td>\n",
       "      <td>20292314</td>\n",
       "      <td>KINGDJTRICKS</td>\n",
       "    </tr>\n",
       "    <tr>\n",
       "      <th>...</th>\n",
       "      <td>...</td>\n",
       "      <td>...</td>\n",
       "      <td>...</td>\n",
       "      <td>...</td>\n",
       "      <td>...</td>\n",
       "      <td>...</td>\n",
       "      <td>...</td>\n",
       "      <td>...</td>\n",
       "      <td>...</td>\n",
       "      <td>...</td>\n",
       "      <td>...</td>\n",
       "      <td>...</td>\n",
       "      <td>...</td>\n",
       "    </tr>\n",
       "    <tr>\n",
       "      <th>1098647</th>\n",
       "      <td>2021-01-29 23:59:46+00:00</td>\n",
       "      <td>paolo ignazio marong</td>\n",
       "      <td>0</td>\n",
       "      <td></td>\n",
       "      <td>0</td>\n",
       "      <td></td>\n",
       "      <td>0</td>\n",
       "      <td>0</td>\n",
       "      <td></td>\n",
       "      <td>Perdita di 700 punti per la questione  #GameSt...</td>\n",
       "      <td>1355304663395004416</td>\n",
       "      <td>1341462944</td>\n",
       "      <td>paoloigna1</td>\n",
       "    </tr>\n",
       "    <tr>\n",
       "      <th>1098649</th>\n",
       "      <td>2021-01-29 23:59:47+00:00</td>\n",
       "      <td>75e Session</td>\n",
       "      <td>246</td>\n",
       "      <td></td>\n",
       "      <td>0</td>\n",
       "      <td></td>\n",
       "      <td>0</td>\n",
       "      <td>20</td>\n",
       "      <td></td>\n",
       "      <td>On va les GameStop</td>\n",
       "      <td>1355304668319141891</td>\n",
       "      <td>264189613</td>\n",
       "      <td>75eSession</td>\n",
       "    </tr>\n",
       "    <tr>\n",
       "      <th>1098650</th>\n",
       "      <td>2021-01-29 23:59:49+00:00</td>\n",
       "      <td>Captor Zone</td>\n",
       "      <td>0</td>\n",
       "      <td></td>\n",
       "      <td>0</td>\n",
       "      <td></td>\n",
       "      <td>0</td>\n",
       "      <td>0</td>\n",
       "      <td></td>\n",
       "      <td>https://t.co/CVQRo4Wk30 Candace Owens compares...</td>\n",
       "      <td>1355304676728696834</td>\n",
       "      <td>1552359542</td>\n",
       "      <td>German_Dictator</td>\n",
       "    </tr>\n",
       "    <tr>\n",
       "      <th>1098651</th>\n",
       "      <td>2021-01-29 23:59:51+00:00</td>\n",
       "      <td>Casey Jaywork</td>\n",
       "      <td>1</td>\n",
       "      <td></td>\n",
       "      <td>0</td>\n",
       "      <td></td>\n",
       "      <td>0</td>\n",
       "      <td>0</td>\n",
       "      <td></td>\n",
       "      <td>The Gamestop Short Squeeze Explained in 4 Minu...</td>\n",
       "      <td>1355304685100560384</td>\n",
       "      <td>424660548</td>\n",
       "      <td>CaseyJaywork</td>\n",
       "    </tr>\n",
       "    <tr>\n",
       "      <th>1098652</th>\n",
       "      <td>2021-01-29 23:59:53+00:00</td>\n",
       "      <td>Dinero.com.sv</td>\n",
       "      <td>1</td>\n",
       "      <td>[User(username='WSJ', id=3108351, displayname=...</td>\n",
       "      <td>0</td>\n",
       "      <td></td>\n",
       "      <td>0</td>\n",
       "      <td>0</td>\n",
       "      <td></td>\n",
       "      <td>#Tecnologia | Inversores aficionados sacuden a...</td>\n",
       "      <td>1355304691882713091</td>\n",
       "      <td>3290779767</td>\n",
       "      <td>dinerocomsv</td>\n",
       "    </tr>\n",
       "  </tbody>\n",
       "</table>\n",
       "<p>1027319 rows × 13 columns</p>\n",
       "</div>"
      ],
      "text/plain": [
       "                              date          display_name like_count  \\\n",
       "0        2021-01-17 00:06:58+00:00        CVC Research 🫐         10   \n",
       "1        2021-01-17 00:08:07+00:00         ChuloCharts ☄          0   \n",
       "2        2021-01-17 00:11:27+00:00        CVC Research 🫐          7   \n",
       "3        2021-01-17 00:11:36+00:00        CVC Research 🫐          8   \n",
       "4        2021-01-17 00:13:08+00:00  GameStop millionaire          0   \n",
       "...                            ...                   ...        ...   \n",
       "1098647  2021-01-29 23:59:46+00:00  paolo ignazio marong          0   \n",
       "1098649  2021-01-29 23:59:47+00:00           75e Session        246   \n",
       "1098650  2021-01-29 23:59:49+00:00           Captor Zone          0   \n",
       "1098651  2021-01-29 23:59:51+00:00         Casey Jaywork          1   \n",
       "1098652  2021-01-29 23:59:53+00:00         Dinero.com.sv          1   \n",
       "\n",
       "                                            mentionedUsers quote_count  \\\n",
       "0                                                                    1   \n",
       "1                                                                    0   \n",
       "2                                                                    0   \n",
       "3                                                                    0   \n",
       "4                                                                    0   \n",
       "...                                                    ...         ...   \n",
       "1098647                                                              0   \n",
       "1098649                                                              0   \n",
       "1098650                                                              0   \n",
       "1098651                                                              0   \n",
       "1098652  [User(username='WSJ', id=3108351, displayname=...           0   \n",
       "\n",
       "        quotedTweet reply_count retweet_count retweted_tweet  \\\n",
       "0                             2             0                  \n",
       "1                             0             0                  \n",
       "2                             1             0                  \n",
       "3                             1             0                  \n",
       "4                             0             1                  \n",
       "...             ...         ...           ...            ...   \n",
       "1098647                       0             0                  \n",
       "1098649                       0            20                  \n",
       "1098650                       0             0                  \n",
       "1098651                       0             0                  \n",
       "1098652                       0             0                  \n",
       "\n",
       "                                                      text  \\\n",
       "0                             $GME https://t.co/B7B3dilRAx   \n",
       "1        @MrZackMorris what if?! GME fractal over AMC h...   \n",
       "2                             $GME https://t.co/N4YBbs3Jdx   \n",
       "3                             $GME https://t.co/mFoHmU8imQ   \n",
       "4        $GME $TSLA i bet you’re his boss now lol https...   \n",
       "...                                                    ...   \n",
       "1098647  Perdita di 700 punti per la questione  #GameSt...   \n",
       "1098649                                 On va les GameStop   \n",
       "1098650  https://t.co/CVQRo4Wk30 Candace Owens compares...   \n",
       "1098651  The Gamestop Short Squeeze Explained in 4 Minu...   \n",
       "1098652  #Tecnologia | Inversores aficionados sacuden a...   \n",
       "\n",
       "                     tweetId               userId         username  \n",
       "0        1350595430707466243           3029204524      CVCResearch  \n",
       "1        1350595723402862594  1263589556084813824      ChuloCharts  \n",
       "2        1350596559369474049           3029204524      CVCResearch  \n",
       "3        1350596596942028801           3029204524      CVCResearch  \n",
       "4        1350596982574866434             20292314     KINGDJTRICKS  \n",
       "...                      ...                  ...              ...  \n",
       "1098647  1355304663395004416           1341462944       paoloigna1  \n",
       "1098649  1355304668319141891            264189613       75eSession  \n",
       "1098650  1355304676728696834           1552359542  German_Dictator  \n",
       "1098651  1355304685100560384            424660548     CaseyJaywork  \n",
       "1098652  1355304691882713091           3290779767      dinerocomsv  \n",
       "\n",
       "[1027319 rows x 13 columns]"
      ]
     },
     "execution_count": 179,
     "metadata": {},
     "output_type": "execute_result"
    }
   ],
   "source": [
    "tweet_df"
   ]
  },
  {
   "cell_type": "markdown",
   "id": "839675ed",
   "metadata": {},
   "source": [
    "<br/><br/>\n",
    "Salvataggio delle modifiche su file"
   ]
  },
  {
   "cell_type": "code",
   "execution_count": 180,
   "id": "f04f9a20",
   "metadata": {},
   "outputs": [],
   "source": [
    "tweet_df.to_csv('../data/gamestop_tweets.csv', index=False)"
   ]
  },
  {
   "cell_type": "markdown",
   "id": "e604dab5",
   "metadata": {},
   "source": [
    "<br/><br/>\n",
    "Data manipulation: estrazione dei mentioned users dal testo dei tweets\n",
    "<br/><br/>"
   ]
  },
  {
   "cell_type": "code",
   "execution_count": null,
   "id": "usual-fighter",
   "metadata": {},
   "outputs": [],
   "source": [
    "rx = re.compile(r'@([^:^,^@?\\s]+)')\n",
    "mentioned_users = []\n",
    "for i in range(0, len(tweet_df)):\n",
    "    try:\n",
    "        tweetId = tweet_df['tweetId'][i]\n",
    "        username = tweet_df['username'][i]\n",
    "        line = tweet_df['text'][i]\n",
    "        try:\n",
    "            mentioneds = rx.findall(line)\n",
    "            for m in mentioneds:\n",
    "                mentioned_users.append([username, tweetId, m])\n",
    "        except Exception as e:\n",
    "            print(e)\n",
    "    except Exception as e:\n",
    "        print(e)\n",
    "    #if(i%100000==0):\n",
    "    #    print(i)\n",
    "mentioned_df = pd.DataFrame(mentioned_users, columns = ['tweetUsername', 'tweetId', 'mention'])"
   ]
  },
  {
   "cell_type": "markdown",
   "id": "c287c5b5",
   "metadata": {},
   "source": [
    "<br/><br/>\n",
    "Verifica e rimozione duplicati nelle mentions"
   ]
  },
  {
   "cell_type": "code",
   "execution_count": 112,
   "id": "921ebbfe",
   "metadata": {},
   "outputs": [
    {
     "data": {
      "text/html": [
       "<div>\n",
       "<style scoped>\n",
       "    .dataframe tbody tr th:only-of-type {\n",
       "        vertical-align: middle;\n",
       "    }\n",
       "\n",
       "    .dataframe tbody tr th {\n",
       "        vertical-align: top;\n",
       "    }\n",
       "\n",
       "    .dataframe thead th {\n",
       "        text-align: right;\n",
       "    }\n",
       "</style>\n",
       "<table border=\"1\" class=\"dataframe\">\n",
       "  <thead>\n",
       "    <tr style=\"text-align: right;\">\n",
       "      <th></th>\n",
       "      <th>tweetUsername</th>\n",
       "      <th>tweetId</th>\n",
       "      <th>mention</th>\n",
       "    </tr>\n",
       "  </thead>\n",
       "  <tbody>\n",
       "    <tr>\n",
       "      <th>0</th>\n",
       "      <td>ChuloCharts</td>\n",
       "      <td>1350595723402862594</td>\n",
       "      <td>MrZackMorris</td>\n",
       "    </tr>\n",
       "    <tr>\n",
       "      <th>1</th>\n",
       "      <td>Uncommon_Name1</td>\n",
       "      <td>1350599116519211009</td>\n",
       "      <td>OGxGalv</td>\n",
       "    </tr>\n",
       "    <tr>\n",
       "      <th>2</th>\n",
       "      <td>Uncommon_Name1</td>\n",
       "      <td>1350599116519211009</td>\n",
       "      <td>ReeceLongwell</td>\n",
       "    </tr>\n",
       "    <tr>\n",
       "      <th>3</th>\n",
       "      <td>Uncommon_Name1</td>\n",
       "      <td>1350599116519211009</td>\n",
       "      <td>chhlss</td>\n",
       "    </tr>\n",
       "    <tr>\n",
       "      <th>4</th>\n",
       "      <td>ZevFima</td>\n",
       "      <td>1350601195598065672</td>\n",
       "      <td>wallstreetbets</td>\n",
       "    </tr>\n",
       "    <tr>\n",
       "      <th>...</th>\n",
       "      <td>...</td>\n",
       "      <td>...</td>\n",
       "      <td>...</td>\n",
       "    </tr>\n",
       "    <tr>\n",
       "      <th>680644</th>\n",
       "      <td>OhNoNotHim5</td>\n",
       "      <td>1355087888174772235</td>\n",
       "      <td>teelokay</td>\n",
       "    </tr>\n",
       "    <tr>\n",
       "      <th>680645</th>\n",
       "      <td>oldtreethoughts</td>\n",
       "      <td>1355087897200832512</td>\n",
       "      <td>maneco1964</td>\n",
       "    </tr>\n",
       "    <tr>\n",
       "      <th>680646</th>\n",
       "      <td>oldtreethoughts</td>\n",
       "      <td>1355087897200832512</td>\n",
       "      <td>nypost</td>\n",
       "    </tr>\n",
       "    <tr>\n",
       "      <th>680647</th>\n",
       "      <td>BradtTunisia</td>\n",
       "      <td>1355087917971075074</td>\n",
       "      <td>reddit</td>\n",
       "    </tr>\n",
       "    <tr>\n",
       "      <th>680648</th>\n",
       "      <td>K_X_42</td>\n",
       "      <td>1355087927823503361</td>\n",
       "      <td>ConceptualJames</td>\n",
       "    </tr>\n",
       "  </tbody>\n",
       "</table>\n",
       "<p>680649 rows × 3 columns</p>\n",
       "</div>"
      ],
      "text/plain": [
       "          tweetUsername              tweetId          mention\n",
       "0           ChuloCharts  1350595723402862594     MrZackMorris\n",
       "1        Uncommon_Name1  1350599116519211009          OGxGalv\n",
       "2        Uncommon_Name1  1350599116519211009    ReeceLongwell\n",
       "3        Uncommon_Name1  1350599116519211009           chhlss\n",
       "4               ZevFima  1350601195598065672   wallstreetbets\n",
       "...                 ...                  ...              ...\n",
       "680644      OhNoNotHim5  1355087888174772235         teelokay\n",
       "680645  oldtreethoughts  1355087897200832512       maneco1964\n",
       "680646  oldtreethoughts  1355087897200832512           nypost\n",
       "680647     BradtTunisia  1355087917971075074           reddit\n",
       "680648           K_X_42  1355087927823503361  ConceptualJames\n",
       "\n",
       "[680649 rows x 3 columns]"
      ]
     },
     "execution_count": 112,
     "metadata": {},
     "output_type": "execute_result"
    }
   ],
   "source": [
    "mentioned_df"
   ]
  },
  {
   "cell_type": "code",
   "execution_count": 113,
   "id": "a37dd0b0",
   "metadata": {},
   "outputs": [
    {
     "data": {
      "text/plain": [
       "10601"
      ]
     },
     "execution_count": 113,
     "metadata": {},
     "output_type": "execute_result"
    }
   ],
   "source": [
    "len(mentioned_df[mentioned_df.duplicated(keep=False)].index)"
   ]
  },
  {
   "cell_type": "code",
   "execution_count": 114,
   "id": "4b6603c4",
   "metadata": {},
   "outputs": [
    {
     "data": {
      "text/plain": [
       "5360"
      ]
     },
     "execution_count": 114,
     "metadata": {},
     "output_type": "execute_result"
    }
   ],
   "source": [
    "len(mentioned_df[mentioned_df.duplicated(keep='first')].index)"
   ]
  },
  {
   "cell_type": "code",
   "execution_count": 115,
   "id": "eb1eed91",
   "metadata": {},
   "outputs": [],
   "source": [
    "mentioned_df = mentioned_df.drop_duplicates()"
   ]
  },
  {
   "cell_type": "markdown",
   "id": "4bd86ce0",
   "metadata": {},
   "source": [
    "<br/><br/>\n",
    "Salvataggio mentioned users su file"
   ]
  },
  {
   "cell_type": "code",
   "execution_count": 116,
   "id": "brown-roman",
   "metadata": {},
   "outputs": [],
   "source": [
    "mentioned_df.to_csv('../data/gamestop_mentioned_users_tweets.csv', sep=',', index=False)"
   ]
  },
  {
   "cell_type": "code",
   "execution_count": 117,
   "id": "c1b4a01b",
   "metadata": {},
   "outputs": [
    {
     "data": {
      "text/html": [
       "<div>\n",
       "<style scoped>\n",
       "    .dataframe tbody tr th:only-of-type {\n",
       "        vertical-align: middle;\n",
       "    }\n",
       "\n",
       "    .dataframe tbody tr th {\n",
       "        vertical-align: top;\n",
       "    }\n",
       "\n",
       "    .dataframe thead th {\n",
       "        text-align: right;\n",
       "    }\n",
       "</style>\n",
       "<table border=\"1\" class=\"dataframe\">\n",
       "  <thead>\n",
       "    <tr style=\"text-align: right;\">\n",
       "      <th></th>\n",
       "      <th>tweetUsername</th>\n",
       "      <th>tweetId</th>\n",
       "      <th>mention</th>\n",
       "    </tr>\n",
       "  </thead>\n",
       "  <tbody>\n",
       "    <tr>\n",
       "      <th>0</th>\n",
       "      <td>ChuloCharts</td>\n",
       "      <td>1350595723402862594</td>\n",
       "      <td>MrZackMorris</td>\n",
       "    </tr>\n",
       "    <tr>\n",
       "      <th>1</th>\n",
       "      <td>Uncommon_Name1</td>\n",
       "      <td>1350599116519211009</td>\n",
       "      <td>OGxGalv</td>\n",
       "    </tr>\n",
       "    <tr>\n",
       "      <th>2</th>\n",
       "      <td>Uncommon_Name1</td>\n",
       "      <td>1350599116519211009</td>\n",
       "      <td>ReeceLongwell</td>\n",
       "    </tr>\n",
       "    <tr>\n",
       "      <th>3</th>\n",
       "      <td>Uncommon_Name1</td>\n",
       "      <td>1350599116519211009</td>\n",
       "      <td>chhlss</td>\n",
       "    </tr>\n",
       "    <tr>\n",
       "      <th>4</th>\n",
       "      <td>ZevFima</td>\n",
       "      <td>1350601195598065672</td>\n",
       "      <td>wallstreetbets</td>\n",
       "    </tr>\n",
       "    <tr>\n",
       "      <th>...</th>\n",
       "      <td>...</td>\n",
       "      <td>...</td>\n",
       "      <td>...</td>\n",
       "    </tr>\n",
       "    <tr>\n",
       "      <th>680644</th>\n",
       "      <td>OhNoNotHim5</td>\n",
       "      <td>1355087888174772235</td>\n",
       "      <td>teelokay</td>\n",
       "    </tr>\n",
       "    <tr>\n",
       "      <th>680645</th>\n",
       "      <td>oldtreethoughts</td>\n",
       "      <td>1355087897200832512</td>\n",
       "      <td>maneco1964</td>\n",
       "    </tr>\n",
       "    <tr>\n",
       "      <th>680646</th>\n",
       "      <td>oldtreethoughts</td>\n",
       "      <td>1355087897200832512</td>\n",
       "      <td>nypost</td>\n",
       "    </tr>\n",
       "    <tr>\n",
       "      <th>680647</th>\n",
       "      <td>BradtTunisia</td>\n",
       "      <td>1355087917971075074</td>\n",
       "      <td>reddit</td>\n",
       "    </tr>\n",
       "    <tr>\n",
       "      <th>680648</th>\n",
       "      <td>K_X_42</td>\n",
       "      <td>1355087927823503361</td>\n",
       "      <td>ConceptualJames</td>\n",
       "    </tr>\n",
       "  </tbody>\n",
       "</table>\n",
       "<p>675289 rows × 3 columns</p>\n",
       "</div>"
      ],
      "text/plain": [
       "          tweetUsername              tweetId          mention\n",
       "0           ChuloCharts  1350595723402862594     MrZackMorris\n",
       "1        Uncommon_Name1  1350599116519211009          OGxGalv\n",
       "2        Uncommon_Name1  1350599116519211009    ReeceLongwell\n",
       "3        Uncommon_Name1  1350599116519211009           chhlss\n",
       "4               ZevFima  1350601195598065672   wallstreetbets\n",
       "...                 ...                  ...              ...\n",
       "680644      OhNoNotHim5  1355087888174772235         teelokay\n",
       "680645  oldtreethoughts  1355087897200832512       maneco1964\n",
       "680646  oldtreethoughts  1355087897200832512           nypost\n",
       "680647     BradtTunisia  1355087917971075074           reddit\n",
       "680648           K_X_42  1355087927823503361  ConceptualJames\n",
       "\n",
       "[675289 rows x 3 columns]"
      ]
     },
     "execution_count": 117,
     "metadata": {},
     "output_type": "execute_result"
    }
   ],
   "source": [
    "mentioned_df"
   ]
  },
  {
   "cell_type": "markdown",
   "id": "a623c54d",
   "metadata": {},
   "source": [
    "<br/><br/>\n",
    "Verifica del corretto funzionamento della funzione precedente controllando che non ci siano righe con il carattere @ nel campo 'mention"
   ]
  },
  {
   "cell_type": "code",
   "execution_count": 118,
   "id": "polyphonic-mention",
   "metadata": {},
   "outputs": [
    {
     "data": {
      "text/html": [
       "<div>\n",
       "<style scoped>\n",
       "    .dataframe tbody tr th:only-of-type {\n",
       "        vertical-align: middle;\n",
       "    }\n",
       "\n",
       "    .dataframe tbody tr th {\n",
       "        vertical-align: top;\n",
       "    }\n",
       "\n",
       "    .dataframe thead th {\n",
       "        text-align: right;\n",
       "    }\n",
       "</style>\n",
       "<table border=\"1\" class=\"dataframe\">\n",
       "  <thead>\n",
       "    <tr style=\"text-align: right;\">\n",
       "      <th></th>\n",
       "      <th>tweetUsername</th>\n",
       "      <th>tweetId</th>\n",
       "      <th>mention</th>\n",
       "    </tr>\n",
       "  </thead>\n",
       "  <tbody>\n",
       "  </tbody>\n",
       "</table>\n",
       "</div>"
      ],
      "text/plain": [
       "Empty DataFrame\n",
       "Columns: [tweetUsername, tweetId, mention]\n",
       "Index: []"
      ]
     },
     "execution_count": 118,
     "metadata": {},
     "output_type": "execute_result"
    }
   ],
   "source": [
    "mentioned_df[mentioned_df['mention'].str.contains('@')]"
   ]
  },
  {
   "cell_type": "code",
   "execution_count": null,
   "id": "6817e723",
   "metadata": {},
   "outputs": [],
   "source": [
    "#tweet_df[tweet_df['text'].str.contains('#gamestop')]"
   ]
  },
  {
   "cell_type": "markdown",
   "id": "e48a142c",
   "metadata": {},
   "source": [
    "## Data storage"
   ]
  },
  {
   "cell_type": "markdown",
   "id": "e175ef5f",
   "metadata": {},
   "source": [
    "### Connessione al database Neo4J e inserimento dati"
   ]
  },
  {
   "cell_type": "code",
   "execution_count": 137,
   "id": "ba37e2af",
   "metadata": {},
   "outputs": [],
   "source": [
    "class Neo4jConnection:\n",
    "    \n",
    "    def __init__(self, uri, user, pwd):\n",
    "        self.__uri = uri\n",
    "        self.__user = user\n",
    "        self.__pwd = pwd\n",
    "        self.__driver = None\n",
    "        try:\n",
    "            self.__driver = GraphDatabase.driver(self.__uri, auth=(self.__user, self.__pwd))\n",
    "        except Exception as e:\n",
    "            print(\"Failed to create the driver:\", e)\n",
    "        \n",
    "    def close(self):\n",
    "        if self.__driver is not None:\n",
    "            self.__driver.close()\n",
    "        \n",
    "    def query(self, query, parameters=None, db=None):\n",
    "        assert self.__driver is not None, \"Driver not initialized!\"\n",
    "        session = None\n",
    "        response = None\n",
    "        try: \n",
    "            session = self.__driver.session(database=db) if db is not None else self.__driver.session() \n",
    "            response = list(session.run(query, parameters))\n",
    "        except Exception as e:\n",
    "            print(\"Query failed:\", e)\n",
    "        finally: \n",
    "            if session is not None:\n",
    "                session.close()\n",
    "        return response\n",
    "\n",
    "\n",
    "#conn = Neo4jConnection(uri=\"bolt://54.90.165.10:7687\", \n",
    "#                       user=\"neo4j\",              \n",
    "#                       pwd=\"clicks-haul-qualifier\")\n",
    "\n",
    "conn = Neo4jConnection(uri=\"bolt://localhost:7787\", \n",
    "                       user=\"neo4j\",              \n",
    "                       pwd=\"neo4j1\")"
   ]
  },
  {
   "cell_type": "code",
   "execution_count": 120,
   "id": "functional-certificate",
   "metadata": {},
   "outputs": [],
   "source": [
    "def insert_data(query, rows, batch_size = 10000):\n",
    "    # Function to handle the updating the Neo4j database in batch mode.\n",
    "    \n",
    "    total = 0\n",
    "    batch = 0\n",
    "    start = time.time()\n",
    "    result = None\n",
    "    \n",
    "    while batch * batch_size < len(rows):\n",
    "\n",
    "        res = conn.query(query, \n",
    "                         parameters = {'rows': rows[batch*batch_size:(batch+1)*batch_size].to_dict('records')})\n",
    "        total += res[0]['total']\n",
    "        batch += 1\n",
    "        result = {\"total\":total, \n",
    "                  \"batches\":batch, \n",
    "                  \"time\":time.time()-start}\n",
    "        print(result)\n",
    "        \n",
    "    return result"
   ]
  },
  {
   "cell_type": "code",
   "execution_count": 121,
   "id": "18d4446b",
   "metadata": {},
   "outputs": [],
   "source": [
    "def add_tweets(rows, batch_size=10000):\n",
    " \n",
    "   query = '''\n",
    "   UNWIND $rows as row\n",
    "   MERGE (u:TwUser {username:row.username})\n",
    "   MERGE (t:Tweet {tweetId: row.tweetId})\n",
    "   SET  t.date = row.date,\n",
    "        t.userId = row.userId,\n",
    "        t.username = row.username,\n",
    "        t.display_name = row.display_name,\n",
    "        t.text = row.text,\n",
    "        t.reply_count = row.reply_count,\n",
    "        t.like_count = row.like_count,\n",
    "        t.retweet_count = row.retweet_count,\n",
    "        t.quote_count = row.quote_count,\n",
    "        t.retweeted_tweet = row.retweted_tweet\n",
    "   MERGE (u)-[:TWEETED]->(t)\n",
    " \n",
    "   \n",
    "   RETURN count(distinct u) as total\n",
    "   '''\n",
    " \n",
    "   return insert_data(query, rows, batch_size)"
   ]
  },
  {
   "cell_type": "code",
   "execution_count": 122,
   "id": "d71eacfb",
   "metadata": {},
   "outputs": [],
   "source": [
    "def update_tweet_text(rows, batch_size=10000):\n",
    " \n",
    "   query = '''\n",
    "   UNWIND $rows as row\n",
    "   MERGE (t:Tweet {tweetId: row.tweetId})\n",
    "   SET  t.text = row.text\n",
    " \n",
    "   \n",
    "   RETURN count(distinct t) as total\n",
    "   '''\n",
    " \n",
    "   return insert_data(query, rows, batch_size)"
   ]
  },
  {
   "cell_type": "code",
   "execution_count": 123,
   "id": "c87a402a",
   "metadata": {},
   "outputs": [],
   "source": [
    "def add_mentions(rows, batch_size=10000):\n",
    " \n",
    "   query = '''\n",
    "    UNWIND $rows as row\n",
    "    MERGE (u:TwUser {username:row.mention})\n",
    "    WITH row, u\n",
    "    MATCH (t:Tweet)\n",
    "    WHERE t.tweetId = row.tweetId AND u.username = row.mention\n",
    "    MERGE (t)-[:MENTIONED]->(u)\n",
    " \n",
    "   \n",
    "    RETURN count(distinct u) as total\n",
    "    '''\n",
    " \n",
    "   return insert_data(query, rows, batch_size)"
   ]
  },
  {
   "cell_type": "code",
   "execution_count": 124,
   "id": "7643c4ef",
   "metadata": {},
   "outputs": [],
   "source": [
    "def add_user_mentioned_user(rows, batch_size=10000):\n",
    " \n",
    "   query = '''\n",
    "    UNWIND $rows as row\n",
    "    MERGE (u:TwUser {username:row.tweetUsername})\n",
    "    WITH row, u\n",
    "    MATCH (t:TwUser)\n",
    "    WHERE t.username = row.mention\n",
    "    MERGE (u)-[:HAS_MENTIONED]->(t)\n",
    " \n",
    "   \n",
    "    RETURN count(distinct u) as total\n",
    "    '''\n",
    " \n",
    "   return insert_data(query, rows, batch_size)"
   ]
  },
  {
   "cell_type": "code",
   "execution_count": 125,
   "id": "1b81412f",
   "metadata": {},
   "outputs": [],
   "source": [
    "def delete_user_mentioned_user(rows, batch_size=100):\n",
    " \n",
    "   query = '''\n",
    "    UNWIND $rows as row\n",
    "    MATCH (n:TwUser {username:row.tweetUsername})-[r:HAS_MENTIONED]->()\n",
    "    DELETE r\n",
    " \n",
    "   \n",
    "    RETURN count(distinct r) as total\n",
    "    '''\n",
    " \n",
    "   return insert_data(query, rows, batch_size)"
   ]
  },
  {
   "cell_type": "code",
   "execution_count": null,
   "id": "23d03325",
   "metadata": {},
   "outputs": [],
   "source": [
    "conn.query('CREATE CONSTRAINT tweet IF NOT EXISTS ON (a:Tweet) ASSERT a.tweetId IS UNIQUE')"
   ]
  },
  {
   "cell_type": "code",
   "execution_count": null,
   "id": "4436e47a",
   "metadata": {},
   "outputs": [],
   "source": [
    "conn.query('CREATE CONSTRAINT twitterUser IF NOT EXISTS ON (a:TwUser) ASSERT a.username IS UNIQUE')"
   ]
  },
  {
   "cell_type": "code",
   "execution_count": null,
   "id": "b38f3340",
   "metadata": {},
   "outputs": [],
   "source": [
    "add_tweets(tweet_df)"
   ]
  },
  {
   "cell_type": "code",
   "execution_count": null,
   "id": "f0d18157",
   "metadata": {},
   "outputs": [],
   "source": [
    "#update_tweet_text(tweet_df)"
   ]
  },
  {
   "cell_type": "code",
   "execution_count": null,
   "id": "68a88900",
   "metadata": {},
   "outputs": [],
   "source": [
    "#There is a uniqueness constraint on (:Tweet {tweetId}), so an index is already created that match\n",
    "#query = '''\n",
    "#CREATE INDEX FOR (t:Tweet) ON (t.tweetId)\n",
    "#'''\n",
    "#conn.query(query)"
   ]
  },
  {
   "cell_type": "code",
   "execution_count": null,
   "id": "3d69a305",
   "metadata": {
    "scrolled": true
   },
   "outputs": [],
   "source": [
    "add_mentions(mentioned_df)"
   ]
  },
  {
   "cell_type": "code",
   "execution_count": null,
   "id": "c5ab4681",
   "metadata": {},
   "outputs": [],
   "source": [
    "add_user_mentioned_user(mentioned_df)"
   ]
  },
  {
   "cell_type": "code",
   "execution_count": null,
   "id": "7c9f6c55",
   "metadata": {},
   "outputs": [],
   "source": [
    "#delete_user_mentioned_user(mentioned_df)"
   ]
  },
  {
   "cell_type": "code",
   "execution_count": null,
   "id": "fdfb73e3",
   "metadata": {},
   "outputs": [],
   "source": [
    "conn.query('CREATE INDEX FOR (s:Tweet) ON (s.text)')"
   ]
  },
  {
   "cell_type": "markdown",
   "id": "b727a2e6",
   "metadata": {},
   "source": [
    "### Neo4j graph datascience library"
   ]
  },
  {
   "cell_type": "markdown",
   "id": "2788d026",
   "metadata": {},
   "source": [
    "Gli algoritmi di centralità vengono utilizzati per determinare l'importanza di nodi distinti in una rete.<br/>\n",
    "The Degree Centrality algorithm can be used to find popular nodes within a graph. Degree centrality measures the number of incoming or outgoing (or both) relationships from a node, depending on the orientation of a relationship projection.\n",
    "<br/>\n",
    "Viene calcolata la degree centrality per i nodi TwUser"
   ]
  },
  {
   "cell_type": "markdown",
   "id": "a4fe552b",
   "metadata": {},
   "source": [
    "<br/><br/>\n",
    "Nota: le operazioni seguenti provocano un timeout sulla transazione utilizzando il db remoto, creato sul cloud di Neo4J. Pertanto è stato utilizzato un db locale per i calcoli e successivamente i risultati sono stato inseriti sul db remoto."
   ]
  },
  {
   "cell_type": "code",
   "execution_count": null,
   "id": "ca671c18",
   "metadata": {},
   "outputs": [],
   "source": [
    "query = '''\n",
    "CALL gds.degree.stream({\n",
    "nodeProjection: ['TwUser', 'Tweet'],\n",
    "relationshipProjection: {\n",
    "HAS_MENTIONED: {type:'HAS_MENTIONED', orientation:'UNDIRECTED'},\n",
    "TWEETED: {type:'TWEETED', orientation:'NATURAL'}\n",
    "}\n",
    "})\n",
    "YIELD nodeId, score\n",
    "RETURN gds.util.asNode(nodeId).username AS unit, score AS degree_centrality\n",
    "ORDER BY degree_centrality DESC\n",
    "'''\n",
    "conn.query(query)"
   ]
  },
  {
   "cell_type": "markdown",
   "id": "0ff02807",
   "metadata": {},
   "source": [
    "### Data enrichment\n",
    "Viene inserita in ogni nodo la proprietà 'degree' contenente il valore di degree centrality"
   ]
  },
  {
   "cell_type": "code",
   "execution_count": null,
   "id": "3ff6e4b0",
   "metadata": {},
   "outputs": [],
   "source": [
    "query = '''\n",
    "CALL gds.degree.write(\n",
    "{\n",
    "nodeProjection: ['TwUser'],\n",
    "relationshipProjection: {\n",
    "HAS_MENTIONED: {type:'HAS_MENTIONED', orientation:'UNDIRECTED'},\n",
    "TWEETED: {type:'TWEETED', orientation:'NATURAL'}\n",
    "},\n",
    "writeProperty: 'degree'\n",
    "}\n",
    ")\n",
    "\n",
    "'''\n",
    "conn.query(query)"
   ]
  },
  {
   "cell_type": "code",
   "execution_count": null,
   "id": "eea5027f",
   "metadata": {},
   "outputs": [],
   "source": []
  },
  {
   "cell_type": "markdown",
   "id": "07283deb",
   "metadata": {},
   "source": [
    "Creazione indice sul nuovo campo"
   ]
  },
  {
   "cell_type": "code",
   "execution_count": null,
   "id": "loose-memory",
   "metadata": {},
   "outputs": [],
   "source": [
    "conn.query('CREATE INDEX FOR (s:TwUser) ON (s.degree)')"
   ]
  },
  {
   "cell_type": "markdown",
   "id": "c0a1fba3",
   "metadata": {},
   "source": [
    "Estrazione valore del campo 'degree' dal db locale per i nodi TwUser e Tweet\n",
    "<br/>\n"
   ]
  },
  {
   "cell_type": "code",
   "execution_count": null,
   "id": "happy-pendant",
   "metadata": {},
   "outputs": [],
   "source": [
    "query = '''\n",
    "MATCH (n:TwUser) RETURN n.degree, n.username\n",
    "'''\n",
    "result = conn.query(query)\n",
    "twitterUsers = pd.DataFrame(result, columns={'degree', 'username'})\n"
   ]
  },
  {
   "cell_type": "code",
   "execution_count": null,
   "id": "manufactured-schedule",
   "metadata": {},
   "outputs": [],
   "source": [
    "twitterUsers.rename(columns={'username':'degree', 'degree':'username'}, inplace=True)\n",
    "twitterUsers.sort_values(by=['degree'], ascending=False)"
   ]
  },
  {
   "cell_type": "code",
   "execution_count": null,
   "id": "e050c1e2",
   "metadata": {},
   "outputs": [],
   "source": [
    "query = '''\n",
    "MATCH (n:Tweet) RETURN n.degree, n.tweetId\n",
    "'''\n",
    "result = conn.query(query)\n",
    "tweets = pd.DataFrame(result, columns={'degree', 'tweetId'})"
   ]
  },
  {
   "cell_type": "code",
   "execution_count": null,
   "id": "b98b8ada",
   "metadata": {},
   "outputs": [],
   "source": [
    "tweets"
   ]
  },
  {
   "cell_type": "markdown",
   "id": "14d74d25",
   "metadata": {},
   "source": [
    "<br/><br/>\n",
    "Viene modificato il puntamento al db (da locale a remoto) per poi inserire i valori di 'degree' ai corrispondenti nodi"
   ]
  },
  {
   "cell_type": "code",
   "execution_count": null,
   "id": "7f7ed588",
   "metadata": {},
   "outputs": [],
   "source": [
    "def update_twUser(rows, batch_size=5000):\n",
    " \n",
    "    query = '''\n",
    "    UNWIND $rows as row\n",
    "    MATCH (p:TwUser {username: row.username})\n",
    "    SET p.degree = row.degree\n",
    "\n",
    "    RETURN count(distinct p) as total\n",
    "    '''\n",
    " \n",
    "    return insert_data(query, rows, batch_size)"
   ]
  },
  {
   "cell_type": "code",
   "execution_count": null,
   "id": "6f207116",
   "metadata": {},
   "outputs": [],
   "source": [
    "update_twUser(twitterUsers)"
   ]
  },
  {
   "cell_type": "code",
   "execution_count": null,
   "id": "62f36517",
   "metadata": {},
   "outputs": [],
   "source": [
    "def update_tweet(rows, batch_size=5000):\n",
    " \n",
    "    query = '''\n",
    "    UNWIND $rows as row\n",
    "    MATCH (p:Tweet {tweetId: row.tweetId})\n",
    "    SET p.degree = row.degree\n",
    "\n",
    "    RETURN count(distinct p) as total\n",
    "    '''\n",
    " \n",
    "    return insert_data(query, rows, batch_size)"
   ]
  },
  {
   "cell_type": "code",
   "execution_count": null,
   "id": "5ad9bf25",
   "metadata": {},
   "outputs": [],
   "source": [
    "update_tweet(tweets)"
   ]
  },
  {
   "cell_type": "code",
   "execution_count": null,
   "id": "27f4a436",
   "metadata": {},
   "outputs": [],
   "source": [
    "conn.close()"
   ]
  },
  {
   "cell_type": "markdown",
   "id": "9bf1c2da",
   "metadata": {},
   "source": [
    "### Text analysys"
   ]
  },
  {
   "cell_type": "markdown",
   "id": "3e2be4ed",
   "metadata": {},
   "source": [
    "Estrazione delle parole più utilizzate nei tweets per poterle poi utilizzare nella selezione dei tweets più rappresentativi per l'intera operazione di incremento del titolo GME"
   ]
  },
  {
   "cell_type": "code",
   "execution_count": 130,
   "id": "7c44e7fe",
   "metadata": {},
   "outputs": [],
   "source": [
    "texts = []\n",
    "def remove_links(row):\n",
    "    clean_tweet = re.sub(\"@[A-Za-z0-9_]+\",\"\", row['text'])\n",
    "    clean_tweet = re.sub(\"#[A-Za-z0-9_]+\",\"\", clean_tweet)\n",
    "    clean_tweet = re.sub(r\"http\\S+\", \"\", clean_tweet)\n",
    "    texts.append(clean_tweet)\n"
   ]
  },
  {
   "cell_type": "code",
   "execution_count": 131,
   "id": "2251d584",
   "metadata": {},
   "outputs": [
    {
     "data": {
      "text/plain": [
       "0          None\n",
       "1          None\n",
       "2          None\n",
       "3          None\n",
       "4          None\n",
       "           ... \n",
       "1098647    None\n",
       "1098649    None\n",
       "1098650    None\n",
       "1098651    None\n",
       "1098652    None\n",
       "Length: 1027319, dtype: object"
      ]
     },
     "execution_count": 131,
     "metadata": {},
     "output_type": "execute_result"
    }
   ],
   "source": [
    "tweet_df.apply(remove_links, axis=1)"
   ]
  },
  {
   "cell_type": "code",
   "execution_count": 132,
   "id": "1710a0bf",
   "metadata": {},
   "outputs": [],
   "source": [
    "allWords= ' '.join( [twts for twts in texts] )\n",
    "words = WordCloud().process_text(allWords)"
   ]
  },
  {
   "cell_type": "code",
   "execution_count": 133,
   "id": "2171fa62",
   "metadata": {},
   "outputs": [],
   "source": [
    "words_df = pd.DataFrame.from_dict(words, orient='index')\n",
    "#words"
   ]
  },
  {
   "cell_type": "code",
   "execution_count": 134,
   "id": "10ca9fa2",
   "metadata": {},
   "outputs": [],
   "source": [
    "words_df.sort_values(by=[0], ascending=False, inplace=True)"
   ]
  },
  {
   "cell_type": "code",
   "execution_count": 135,
   "id": "62e7234e",
   "metadata": {},
   "outputs": [],
   "source": [
    "pd.set_option('display.max_rows', 200)"
   ]
  },
  {
   "cell_type": "code",
   "execution_count": 136,
   "id": "efd23bbe",
   "metadata": {},
   "outputs": [
    {
     "data": {
      "text/html": [
       "<div>\n",
       "<style scoped>\n",
       "    .dataframe tbody tr th:only-of-type {\n",
       "        vertical-align: middle;\n",
       "    }\n",
       "\n",
       "    .dataframe tbody tr th {\n",
       "        vertical-align: top;\n",
       "    }\n",
       "\n",
       "    .dataframe thead th {\n",
       "        text-align: right;\n",
       "    }\n",
       "</style>\n",
       "<table border=\"1\" class=\"dataframe\">\n",
       "  <thead>\n",
       "    <tr style=\"text-align: right;\">\n",
       "      <th></th>\n",
       "      <th>0</th>\n",
       "    </tr>\n",
       "  </thead>\n",
       "  <tbody>\n",
       "    <tr>\n",
       "      <th>GameStop</th>\n",
       "      <td>70247</td>\n",
       "    </tr>\n",
       "    <tr>\n",
       "      <th>hedge fund</th>\n",
       "      <td>55490</td>\n",
       "    </tr>\n",
       "    <tr>\n",
       "      <th>GME AMC</th>\n",
       "      <td>48777</td>\n",
       "    </tr>\n",
       "    <tr>\n",
       "      <th>GameStop stock</th>\n",
       "      <td>48345</td>\n",
       "    </tr>\n",
       "    <tr>\n",
       "      <th>GME</th>\n",
       "      <td>46470</td>\n",
       "    </tr>\n",
       "    <tr>\n",
       "      <th>Wall Street</th>\n",
       "      <td>38586</td>\n",
       "    </tr>\n",
       "    <tr>\n",
       "      <th>s</th>\n",
       "      <td>33387</td>\n",
       "    </tr>\n",
       "    <tr>\n",
       "      <th>going</th>\n",
       "      <td>32031</td>\n",
       "    </tr>\n",
       "    <tr>\n",
       "      <th>AMC GME</th>\n",
       "      <td>30192</td>\n",
       "    </tr>\n",
       "    <tr>\n",
       "      <th>now</th>\n",
       "      <td>29546</td>\n",
       "    </tr>\n",
       "    <tr>\n",
       "      <th>Game Stop</th>\n",
       "      <td>29236</td>\n",
       "    </tr>\n",
       "    <tr>\n",
       "      <th>people</th>\n",
       "      <td>28126</td>\n",
       "    </tr>\n",
       "    <tr>\n",
       "      <th>money</th>\n",
       "      <td>22320</td>\n",
       "    </tr>\n",
       "    <tr>\n",
       "      <th>don t</th>\n",
       "      <td>21372</td>\n",
       "    </tr>\n",
       "    <tr>\n",
       "      <th>think</th>\n",
       "      <td>21175</td>\n",
       "    </tr>\n",
       "    <tr>\n",
       "      <th>today</th>\n",
       "      <td>20743</td>\n",
       "    </tr>\n",
       "    <tr>\n",
       "      <th>one</th>\n",
       "      <td>20597</td>\n",
       "    </tr>\n",
       "    <tr>\n",
       "      <th>know</th>\n",
       "      <td>20588</td>\n",
       "    </tr>\n",
       "    <tr>\n",
       "      <th>stock market</th>\n",
       "      <td>20178</td>\n",
       "    </tr>\n",
       "    <tr>\n",
       "      <th>Robinhood</th>\n",
       "      <td>18747</td>\n",
       "    </tr>\n",
       "    <tr>\n",
       "      <th>see</th>\n",
       "      <td>18002</td>\n",
       "    </tr>\n",
       "    <tr>\n",
       "      <th>make</th>\n",
       "      <td>17741</td>\n",
       "    </tr>\n",
       "    <tr>\n",
       "      <th>sell</th>\n",
       "      <td>17632</td>\n",
       "    </tr>\n",
       "    <tr>\n",
       "      <th>want</th>\n",
       "      <td>17356</td>\n",
       "    </tr>\n",
       "    <tr>\n",
       "      <th>buy</th>\n",
       "      <td>16739</td>\n",
       "    </tr>\n",
       "    <tr>\n",
       "      <th>will</th>\n",
       "      <td>16383</td>\n",
       "    </tr>\n",
       "    <tr>\n",
       "      <th>share</th>\n",
       "      <td>16315</td>\n",
       "    </tr>\n",
       "    <tr>\n",
       "      <th>need</th>\n",
       "      <td>16029</td>\n",
       "    </tr>\n",
       "    <tr>\n",
       "      <th>time</th>\n",
       "      <td>15019</td>\n",
       "    </tr>\n",
       "    <tr>\n",
       "      <th>right now</th>\n",
       "      <td>14260</td>\n",
       "    </tr>\n",
       "    <tr>\n",
       "      <th>GME GME</th>\n",
       "      <td>14174</td>\n",
       "    </tr>\n",
       "    <tr>\n",
       "      <th>short squeeze</th>\n",
       "      <td>13812</td>\n",
       "    </tr>\n",
       "    <tr>\n",
       "      <th>buy GME</th>\n",
       "      <td>13710</td>\n",
       "    </tr>\n",
       "    <tr>\n",
       "      <th>way</th>\n",
       "      <td>13566</td>\n",
       "    </tr>\n",
       "    <tr>\n",
       "      <th>AMC NOK</th>\n",
       "      <td>13357</td>\n",
       "    </tr>\n",
       "    <tr>\n",
       "      <th>got</th>\n",
       "      <td>13022</td>\n",
       "    </tr>\n",
       "    <tr>\n",
       "      <th>lot</th>\n",
       "      <td>13005</td>\n",
       "    </tr>\n",
       "    <tr>\n",
       "      <th>m</th>\n",
       "      <td>12621</td>\n",
       "    </tr>\n",
       "    <tr>\n",
       "      <th>look</th>\n",
       "      <td>12614</td>\n",
       "    </tr>\n",
       "    <tr>\n",
       "      <th>made</th>\n",
       "      <td>12579</td>\n",
       "    </tr>\n",
       "    <tr>\n",
       "      <th>take</th>\n",
       "      <td>12454</td>\n",
       "    </tr>\n",
       "    <tr>\n",
       "      <th>fuck</th>\n",
       "      <td>12415</td>\n",
       "    </tr>\n",
       "    <tr>\n",
       "      <th>trying</th>\n",
       "      <td>12402</td>\n",
       "    </tr>\n",
       "    <tr>\n",
       "      <th>u</th>\n",
       "      <td>12007</td>\n",
       "    </tr>\n",
       "    <tr>\n",
       "      <th>GME NOK</th>\n",
       "      <td>11443</td>\n",
       "    </tr>\n",
       "    <tr>\n",
       "      <th>back</th>\n",
       "      <td>11331</td>\n",
       "    </tr>\n",
       "    <tr>\n",
       "      <th>thing</th>\n",
       "      <td>11199</td>\n",
       "    </tr>\n",
       "    <tr>\n",
       "      <th>price</th>\n",
       "      <td>11102</td>\n",
       "    </tr>\n",
       "    <tr>\n",
       "      <th>go</th>\n",
       "      <td>11090</td>\n",
       "    </tr>\n",
       "    <tr>\n",
       "      <th>trade</th>\n",
       "      <td>11018</td>\n",
       "    </tr>\n",
       "    <tr>\n",
       "      <th>day</th>\n",
       "      <td>10898</td>\n",
       "    </tr>\n",
       "    <tr>\n",
       "      <th>lol</th>\n",
       "      <td>10892</td>\n",
       "    </tr>\n",
       "    <tr>\n",
       "      <th>put</th>\n",
       "      <td>10782</td>\n",
       "    </tr>\n",
       "    <tr>\n",
       "      <th>company</th>\n",
       "      <td>10775</td>\n",
       "    </tr>\n",
       "    <tr>\n",
       "      <th>much</th>\n",
       "      <td>10327</td>\n",
       "    </tr>\n",
       "    <tr>\n",
       "      <th>GameStop thing</th>\n",
       "      <td>10300</td>\n",
       "    </tr>\n",
       "    <tr>\n",
       "      <th>guy</th>\n",
       "      <td>10298</td>\n",
       "    </tr>\n",
       "    <tr>\n",
       "      <th>GME stock</th>\n",
       "      <td>10291</td>\n",
       "    </tr>\n",
       "    <tr>\n",
       "      <th>bought</th>\n",
       "      <td>10287</td>\n",
       "    </tr>\n",
       "    <tr>\n",
       "      <th>still</th>\n",
       "      <td>10170</td>\n",
       "    </tr>\n",
       "    <tr>\n",
       "      <th>everyone</th>\n",
       "      <td>10093</td>\n",
       "    </tr>\n",
       "    <tr>\n",
       "      <th>de GameStop</th>\n",
       "      <td>10012</td>\n",
       "    </tr>\n",
       "    <tr>\n",
       "      <th>hold</th>\n",
       "      <td>9960</td>\n",
       "    </tr>\n",
       "    <tr>\n",
       "      <th>AMC BB</th>\n",
       "      <td>9924</td>\n",
       "    </tr>\n",
       "    <tr>\n",
       "      <th>stock</th>\n",
       "      <td>9916</td>\n",
       "    </tr>\n",
       "    <tr>\n",
       "      <th>moon</th>\n",
       "      <td>9858</td>\n",
       "    </tr>\n",
       "    <tr>\n",
       "      <th>Reddit</th>\n",
       "      <td>9816</td>\n",
       "    </tr>\n",
       "    <tr>\n",
       "      <th>re</th>\n",
       "      <td>9586</td>\n",
       "    </tr>\n",
       "    <tr>\n",
       "      <th>say</th>\n",
       "      <td>9363</td>\n",
       "    </tr>\n",
       "    <tr>\n",
       "      <th>WSB</th>\n",
       "      <td>9279</td>\n",
       "    </tr>\n",
       "    <tr>\n",
       "      <th>even</th>\n",
       "      <td>9207</td>\n",
       "    </tr>\n",
       "    <tr>\n",
       "      <th>retail investor</th>\n",
       "      <td>9138</td>\n",
       "    </tr>\n",
       "    <tr>\n",
       "      <th>invest</th>\n",
       "      <td>9087</td>\n",
       "    </tr>\n",
       "    <tr>\n",
       "      <th>GME BB</th>\n",
       "      <td>9062</td>\n",
       "    </tr>\n",
       "    <tr>\n",
       "      <th>shit</th>\n",
       "      <td>9022</td>\n",
       "    </tr>\n",
       "    <tr>\n",
       "      <th>rich</th>\n",
       "      <td>8727</td>\n",
       "    </tr>\n",
       "    <tr>\n",
       "      <th>well</th>\n",
       "      <td>8721</td>\n",
       "    </tr>\n",
       "    <tr>\n",
       "      <th>love</th>\n",
       "      <td>8451</td>\n",
       "    </tr>\n",
       "    <tr>\n",
       "      <th>understand</th>\n",
       "      <td>8355</td>\n",
       "    </tr>\n",
       "    <tr>\n",
       "      <th>year</th>\n",
       "      <td>8030</td>\n",
       "    </tr>\n",
       "    <tr>\n",
       "      <th>week</th>\n",
       "      <td>7997</td>\n",
       "    </tr>\n",
       "    <tr>\n",
       "      <th>sold</th>\n",
       "      <td>7981</td>\n",
       "    </tr>\n",
       "    <tr>\n",
       "      <th>GameStop share</th>\n",
       "      <td>7948</td>\n",
       "    </tr>\n",
       "    <tr>\n",
       "      <th>bunch</th>\n",
       "      <td>7939</td>\n",
       "    </tr>\n",
       "    <tr>\n",
       "      <th>mean</th>\n",
       "      <td>7907</td>\n",
       "    </tr>\n",
       "    <tr>\n",
       "      <th>really</th>\n",
       "      <td>7816</td>\n",
       "    </tr>\n",
       "    <tr>\n",
       "      <th>Thank</th>\n",
       "      <td>7615</td>\n",
       "    </tr>\n",
       "    <tr>\n",
       "      <th>something</th>\n",
       "      <td>7322</td>\n",
       "    </tr>\n",
       "    <tr>\n",
       "      <th>short seller</th>\n",
       "      <td>7311</td>\n",
       "    </tr>\n",
       "    <tr>\n",
       "      <th>thought</th>\n",
       "      <td>7303</td>\n",
       "    </tr>\n",
       "    <tr>\n",
       "      <th>position</th>\n",
       "      <td>7231</td>\n",
       "    </tr>\n",
       "    <tr>\n",
       "      <th>profit</th>\n",
       "      <td>7228</td>\n",
       "    </tr>\n",
       "    <tr>\n",
       "      <th>give</th>\n",
       "      <td>7191</td>\n",
       "    </tr>\n",
       "    <tr>\n",
       "      <th>let</th>\n",
       "      <td>7121</td>\n",
       "    </tr>\n",
       "    <tr>\n",
       "      <th>come</th>\n",
       "      <td>7120</td>\n",
       "    </tr>\n",
       "    <tr>\n",
       "      <th>new</th>\n",
       "      <td>7105</td>\n",
       "    </tr>\n",
       "    <tr>\n",
       "      <th>buying</th>\n",
       "      <td>7069</td>\n",
       "    </tr>\n",
       "    <tr>\n",
       "      <th>market</th>\n",
       "      <td>7029</td>\n",
       "    </tr>\n",
       "    <tr>\n",
       "      <th>happening</th>\n",
       "      <td>6972</td>\n",
       "    </tr>\n",
       "    <tr>\n",
       "      <th>good</th>\n",
       "      <td>6945</td>\n",
       "    </tr>\n",
       "  </tbody>\n",
       "</table>\n",
       "</div>"
      ],
      "text/plain": [
       "                     0\n",
       "GameStop         70247\n",
       "hedge fund       55490\n",
       "GME AMC          48777\n",
       "GameStop stock   48345\n",
       "GME              46470\n",
       "Wall Street      38586\n",
       "s                33387\n",
       "going            32031\n",
       "AMC GME          30192\n",
       "now              29546\n",
       "Game Stop        29236\n",
       "people           28126\n",
       "money            22320\n",
       "don t            21372\n",
       "think            21175\n",
       "today            20743\n",
       "one              20597\n",
       "know             20588\n",
       "stock market     20178\n",
       "Robinhood        18747\n",
       "see              18002\n",
       "make             17741\n",
       "sell             17632\n",
       "want             17356\n",
       "buy              16739\n",
       "will             16383\n",
       "share            16315\n",
       "need             16029\n",
       "time             15019\n",
       "right now        14260\n",
       "GME GME          14174\n",
       "short squeeze    13812\n",
       "buy GME          13710\n",
       "way              13566\n",
       "AMC NOK          13357\n",
       "got              13022\n",
       "lot              13005\n",
       "m                12621\n",
       "look             12614\n",
       "made             12579\n",
       "take             12454\n",
       "fuck             12415\n",
       "trying           12402\n",
       "u                12007\n",
       "GME NOK          11443\n",
       "back             11331\n",
       "thing            11199\n",
       "price            11102\n",
       "go               11090\n",
       "trade            11018\n",
       "day              10898\n",
       "lol              10892\n",
       "put              10782\n",
       "company          10775\n",
       "much             10327\n",
       "GameStop thing   10300\n",
       "guy              10298\n",
       "GME stock        10291\n",
       "bought           10287\n",
       "still            10170\n",
       "everyone         10093\n",
       "de GameStop      10012\n",
       "hold              9960\n",
       "AMC BB            9924\n",
       "stock             9916\n",
       "moon              9858\n",
       "Reddit            9816\n",
       "re                9586\n",
       "say               9363\n",
       "WSB               9279\n",
       "even              9207\n",
       "retail investor   9138\n",
       "invest            9087\n",
       "GME BB            9062\n",
       "shit              9022\n",
       "rich              8727\n",
       "well              8721\n",
       "love              8451\n",
       "understand        8355\n",
       "year              8030\n",
       "week              7997\n",
       "sold              7981\n",
       "GameStop share    7948\n",
       "bunch             7939\n",
       "mean              7907\n",
       "really            7816\n",
       "Thank             7615\n",
       "something         7322\n",
       "short seller      7311\n",
       "thought           7303\n",
       "position          7231\n",
       "profit            7228\n",
       "give              7191\n",
       "let               7121\n",
       "come              7120\n",
       "new               7105\n",
       "buying            7069\n",
       "market            7029\n",
       "happening         6972\n",
       "good              6945"
      ]
     },
     "metadata": {},
     "output_type": "display_data"
    }
   ],
   "source": [
    "display(words_df.head(100))"
   ]
  },
  {
   "cell_type": "code",
   "execution_count": null,
   "id": "cdeba998",
   "metadata": {},
   "outputs": [],
   "source": []
  }
 ],
 "metadata": {
  "kernelspec": {
   "display_name": "Python 3",
   "language": "python",
   "name": "python3"
  },
  "language_info": {
   "codemirror_mode": {
    "name": "ipython",
    "version": 3
   },
   "file_extension": ".py",
   "mimetype": "text/x-python",
   "name": "python",
   "nbconvert_exporter": "python",
   "pygments_lexer": "ipython3",
   "version": "3.8.8"
  }
 },
 "nbformat": 4,
 "nbformat_minor": 5
}
